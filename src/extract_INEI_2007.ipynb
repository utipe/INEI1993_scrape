{
 "cells": [
  {
   "cell_type": "code",
   "execution_count": 1,
   "metadata": {
    "collapsed": true
   },
   "outputs": [],
   "source": [
    "import pandas as pd\n",
    "import requests,re,os, glob\n",
    "from selenium import webdriver\n",
    "from selenium.webdriver.support.ui import WebDriverWait\n",
    "from selenium.webdriver.support import expected_conditions as EC\n",
    "from selenium.common.exceptions import TimeoutException\n",
    "from selenium.webdriver.common.action_chains import ActionChains\n",
    "from __future__ import unicode_literals\n",
    "import io\n",
    "\n",
    "import time\n",
    "os.chdir(os.path.abspath(os.path.join(os.getcwd(), os.pardir, os.pardir)))\n",
    "path_to_chromedriver ='/home/an/chromedriver'\n",
    "browser = webdriver.Chrome(executable_path = path_to_chromedriver)"
   ]
  },
  {
   "cell_type": "code",
   "execution_count": 2,
   "metadata": {
    "collapsed": true
   },
   "outputs": [],
   "source": [
    "url = \"http://sige.inei.gob.pe/test/atlas/\""
   ]
  },
  {
   "cell_type": "code",
   "execution_count": 3,
   "metadata": {
    "collapsed": true
   },
   "outputs": [],
   "source": [
    "browser.get(url)"
   ]
  },
  {
   "cell_type": "code",
   "execution_count": 4,
   "metadata": {
    "collapsed": true
   },
   "outputs": [],
   "source": [
    "out_list = {\"DEPARTAMENTO\":[], \"PROVINCIA\":[], \"DISTRITO\": [], \"CENTRO_POBLADO\": [], \"CATEGORIA\":[], \n",
    "           \"CODIGO_DE_UBIGEO_Y_CENTRO_POBLADO\":[], \"LONGITUD\":[], \"LATITUD\":[], \"ALTITUD\":[], \"POBLACION\":[],\n",
    "           \"VIVIENDA\":[], \"AGUA_POR_RED_PUBLICA\":[], \"ENERGIA_ELECTRICA_EN_LA_VIVIENDA\":[],\n",
    "           \"DESAGUE_POR_RED_PUBLICA\":[], \"VIA_DE_MAYOR_USO\":[], \"TRANSPORTE_DE_MAYOR_USO\":[],\n",
    "           \"FRECUENCIA\":[], \"TIEMPO_EN_MINUTOS_HACIA_LA_CAPITAL_DEL_DISTRITO\":[],\n",
    "           \"DISTANCIA_DEL_CENTRO_POBLADO_HACIA_LA_CAPITAL_DEL_DISTRITO\":[],\n",
    "           \"DISTANCIA_DEL_CENTRO_POBLADO_HACIA_EL_CENTRO_POBLADO_EDUCATIVO\":[],\n",
    "           \"DISTANCIA_DEL_CENTRO_POBLADO_HACIA_EL_CENTRO_DE_SALUD_MAS_CERCA\":[],\n",
    "           \"ALUMBRADO_PUBLICO\":[], \"TELEFONO_PUBLICO\":[], \"LOCAL_COMUNAL\":[], \"HOSTAL_ALBERGUE\":[],\n",
    "           \"ESTACION_DE_RADIO\":[], \"INSTITUCION_EDUCATIVA_PRIMARIA\":[],\n",
    "           \"INSTITUCION_EDUCATIVA_SECUNDARIA\":[], \"ESTABLECIMIENTO_PUESTO_DE_SALUD\":[],\n",
    "           \"PUESTO_POLICIAL\":[], \"OFICINA_DE_CORREO\":[], \"CABINA_DE_INTERNET\":[], \"HELADAS_NEVADAS\":[],\n",
    "           \"GRANIZADAS\":[], \"LLUVIAS\":[], \"SEQUIAS\":[], \"VENDAVALES\":[], \"INUNDACIONES\":[], \n",
    "           \"DERRUMBES_DESLIZAMIENTOS\":[], \"HUAYCOS_ALUDES_ALUVIONES\":[], \"DESERTIFICACIONES\":[],\n",
    "           \"SALINIZACION_DE_LOS_SUELOS\":[], \"ACTIVIDAD_VOLCANICA\":[], \"SISMOS\":[],\n",
    "           \"TSUNAMI_U_OLEADAS_ANOMALOS\":[], \"OTROS_FENOMENOS_NAT\":[],\n",
    "           \"DERRAME_DE_SUSTANCIAS_O_DESECHOS_TOXICOS\":[], \"FUGAS_DE_GASES_TOXICOS\":[], \"EXPLOSIONES\":[],\n",
    "           \"INCENDIOS_Y_QUEMAS\":[], \"CRIANZA_DE_ANIMALES_EN_ZONAS_URBANAS\":[],\n",
    "           \"INCREMENTO_DE_ZONAS_INDUS_NO_AUTORIZADAS\":[], \"ZONAS_AEREOPORTUARIAS\":[], \"RELLENOS_SANITARIOS\":[],\n",
    "           \"SUBVERSIONES_CONFLICTOS_SOCIALES\":[], \"OTROS_PELIGROS\":[], \"UN_LECHO_DE_RIO_O_QUEBRADA\":[],\n",
    "           \"UN_CUARTEL_MILITAR_O_POLICIAL\":[], \"UNA_VIA_FERREA\":[], \"LA_EROSION_DE_RIOS_EN_LADERAS_DE_CERROS\":[],\n",
    "           \"BARRANCOS_O_PRECIPICIOS\":[], \"OTROS\":[], \"PISTAS_VEREDAS_EN_LA_MAYORI_DE_SUS_CALLES_MANZANAS\":[],\n",
    "           \"CANALES_DE_DRENAJE_EN_LAS_CALLES_PARA_LA_EVACUACION_DE_LAS_AGUA\":[],\n",
    "           \"IDIOMA_O_LENGUA_QUE_SE_HABLA_CON_MAYOR_FRECUENCIA\":[]}"
   ]
  },
  {
   "cell_type": "code",
   "execution_count": 5,
   "metadata": {
    "collapsed": false
   },
   "outputs": [],
   "source": [
    "name_list = [\"DEPARTAMENTO\", \"PROVINCIA\", \"DISTRITO\", \"CENTRO_POBLADO\", \"CATEGORIA\", \n",
    "           \"CODIGO_DE_UBIGEO_Y_CENTRO_POBLADO\", \"LONGITUD\", \"LATITUD\", \"ALTITUD\", \"POBLACION\",\n",
    "           \"VIVIENDA\", \"AGUA_POR_RED_PUBLICA\", \"ENERGIA_ELECTRICA_EN_LA_VIVIENDA\",\n",
    "           \"DESAGUE_POR_RED_PUBLICA\", \"VIA_DE_MAYOR_USO\", \"TRANSPORTE_DE_MAYOR_USO\",\n",
    "           \"FRECUENCIA\", \"TIEMPO_EN_MINUTOS_HACIA_LA_CAPITAL_DEL_DISTRITO\",\n",
    "           \"DISTANCIA_DEL_CENTRO_POBLADO_HACIA_LA_CAPITAL_DEL_DISTRITO\",\n",
    "           \"DISTANCIA_DEL_CENTRO_POBLADO_HACIA_EL_CENTRO_POBLADO_EDUCATIVO\",\n",
    "           \"DISTANCIA_DEL_CENTRO_POBLADO_HACIA_EL_CENTRO_DE_SALUD_MAS_CERCA\",\n",
    "           \"ALUMBRADO_PUBLICO\", \"TELEFONO_PUBLICO\", \"LOCAL_COMUNAL\", \"HOSTAL_ALBERGUE\",\n",
    "           \"ESTACION_DE_RADIO\", \"INSTITUCION_EDUCATIVA_PRIMARIA\",\n",
    "           \"INSTITUCION_EDUCATIVA_SECUNDARIA\", \"ESTABLECIMIENTO_PUESTO_DE_SALUD\",\n",
    "           \"PUESTO_POLICIAL\", \"OFICINA_DE_CORREO\", \"CABINA_DE_INTERNET\", \"HELADAS_NEVADAS\",\n",
    "           \"GRANIZADAS\", \"LLUVIAS\", \"SEQUIAS\", \"VENDAVALES\", \"INUNDACIONES\", \n",
    "           \"DERRUMBES_DESLIZAMIENTOS\", \"HUAYCOS_ALUDES_ALUVIONES\", \"DESERTIFICACIONES\",\n",
    "           \"SALINIZACION_DE_LOS_SUELOS\", \"ACTIVIDAD_VOLCANICA\", \"SISMOS\",\n",
    "           \"TSUNAMI_U_OLEADAS_ANOMALOS\", \"OTROS_FENOMENOS_NAT\",\n",
    "           \"DERRAME_DE_SUSTANCIAS_O_DESECHOS_TOXICOS\", \"FUGAS_DE_GASES_TOXICOS\", \"EXPLOSIONES\",\n",
    "           \"INCENDIOS_Y_QUEMAS\", \"CRIANZA_DE_ANIMALES_EN_ZONAS_URBANAS\",\n",
    "           \"INCREMENTO_DE_ZONAS_INDUS_NO_AUTORIZADAS\", \"ZONAS_AEREOPORTUARIAS\", \"RELLENOS_SANITARIOS\",\n",
    "           \"SUBVERSIONES_CONFLICTOS_SOCIALES\", \"OTROS_PELIGROS\", \"UN_LECHO_DE_RIO_O_QUEBRADA\",\n",
    "           \"UN_CUARTEL_MILITAR_O_POLICIAL\", \"UNA_VIA_FERREA\", \"LA_EROSION_DE_RIOS_EN_LADERAS_DE_CERROS\",\n",
    "           \"BARRANCOS_O_PRECIPICIOS\", \"OTROS\", \"PISTAS_VEREDAS_EN_LA_MAYORI_DE_SUS_CALLES_MANZANAS\",\n",
    "           \"CANALES_DE_DRENAJE_EN_LAS_CALLES_PARA_LA_EVACUACION_DE_LAS_AGUA\",\n",
    "           \"IDIOMA_O_LENGUA_QUE_SE_HABLA_CON_MAYOR_FRECUENCIA\"]"
   ]
  },
  {
   "cell_type": "code",
   "execution_count": 6,
   "metadata": {
    "collapsed": true
   },
   "outputs": [],
   "source": [
    "def get_data_table(tab_save=False):\n",
    "    #time.sleep(1)\n",
    "    for i in range(65):\n",
    "        out_list[name_list[i]].append(browser.find_element_by_xpath('//*[@id=\"'+str(i)+'\"]/td[2]').text)\n",
    "    if tab_save:\n",
    "        browser.find_element_by_xpath('/html/body/div[17]/div[11]/button[1]').click()\n",
    "    # need to close table \n",
    "    browser.find_element_by_xpath(\"/html/body/div[17]/div[1]/a\").click()"
   ]
  },
  {
   "cell_type": "code",
   "execution_count": 7,
   "metadata": {
    "collapsed": false
   },
   "outputs": [],
   "source": [
    "def get_data_centro():\n",
    "    time.sleep(2)\n",
    "    wait = WebDriverWait(browser, 60)\n",
    "    confirm = wait.until(lambda driver: len(driver.find_element_by_xpath('//*[@id=\"tblResultados\"]').find_elements_by_tag_name(\"tr\"))>0)\n",
    "    centro_list = browser.find_element_by_xpath('//*[@id=\"tblResultados\"]').find_elements_by_tag_name(\"tr\")\n",
    "    no_centro = len(centro_list) + 1\n",
    "    print(no_centro)\n",
    "    time.sleep(1)\n",
    "    browser.find_element_by_xpath('//*[@id=\"tblResultados\"]/tbody/tr[1]/td/a').click()\n",
    "    time.sleep(1)\n",
    "    elem = browser.find_element_by_xpath('//*[@id=\"content_mapa\"]')\n",
    "    ac = ActionChains(browser)\n",
    "    ac.move_to_element(elem).move_by_offset(0,0).double_click().perform()\n",
    "    wait = WebDriverWait(browser, 60)\n",
    "    wait.until(lambda driver: len(driver.find_element_by_xpath('/html/body/div[17]').find_elements_by_tag_name(\"tr\"))>60)\n",
    "    get_data_table(True)\n",
    "    for i in range(2,no_centro):\n",
    "        #time.sleep(1)\n",
    "        browser.find_element_by_xpath('//*[@id=\"tblResultados\"]/tbody/tr[' +str(i)+']/td/a').click()\n",
    "        time.sleep(1)\n",
    "        elem = browser.find_element_by_xpath('//*[@id=\"content_mapa\"]')\n",
    "        ac = ActionChains(browser)\n",
    "        ac.move_to_element(elem).move_by_offset(0,0).double_click().perform()\n",
    "        wait = WebDriverWait(browser, 60)\n",
    "        wait.until(lambda driver: len(driver.find_element_by_xpath('/html/body/div[17]').find_elements_by_tag_name(\"tr\"))>10)\n",
    "        get_data_table()"
   ]
  },
  {
   "cell_type": "code",
   "execution_count": 8,
   "metadata": {
    "collapsed": false
   },
   "outputs": [],
   "source": [
    "def get_data_dist(district=None):\n",
    "    #time.sleep(1)\n",
    "    if district:\n",
    "        wait = WebDriverWait(browser, 60)\n",
    "        confirm = wait.until(lambda driver: driver.find_element_by_xpath('//*[@id=\"cboDistrito\"]/option[contains(text(), \"'+district+'\")]'))\n",
    "        confirm.click()\n",
    "        get_data_centro()\n",
    "    else:\n",
    "        wait = WebDriverWait(browser, 60)\n",
    "        wait.until(lambda driver: len(driver.find_element_by_xpath('//*[@id=\"cboDistrito\"]').find_elements_by_tag_name(\"option\"))>1)\n",
    "        dist_list=browser.find_element_by_xpath('//*[@id=\"cboDistrito\"]').find_elements_by_tag_name(\"option\")\n",
    "        for i in range(1,len(dist_list)):\n",
    "            dist_name = dist_list[i].text\n",
    "            print(dist_name)\n",
    "            browser.find_element_by_xpath('//*[@id=\"cboDistrito\"]/option[contains(text(), \"'+dist_name+'\")]').click()\n",
    "            get_data_centro()"
   ]
  },
  {
   "cell_type": "code",
   "execution_count": 9,
   "metadata": {
    "collapsed": true
   },
   "outputs": [],
   "source": [
    "def get_data_prov(province=None,district=None):\n",
    "    #time.sleep(1)\n",
    "    if province:\n",
    "        wait = WebDriverWait(browser,60)\n",
    "        confirm = wait.until(lambda driver: driver.find_element_by_xpath('//*[@id=\"cboProvincia\"]/option[contains(text(), \"'+province+'\")]'))\n",
    "        confirm.click()\n",
    "        get_data_dist(district)\n",
    "    else:\n",
    "        wait = WebDriverWait(browser, 60)\n",
    "        wait.until(lambda driver: len(driver.find_element_by_xpath('//*[@id=\"cboProvincia\"]').find_elements_by_tag_name(\"option\"))>1)\n",
    "        prov_list=browser.find_element_by_xpath('//*[@id=\"cboProvincia\"]').find_elements_by_tag_name(\"option\")\n",
    "        for i in range(1, len(prov_list)):\n",
    "            prov_name = prov_list[i].text\n",
    "            browser.find_element_by_xpath('//*[@id=\"cboProvincia\"]/option[contains(text(), \"'+prov_name+'\")]').click()\n",
    "            get_data_dist(district)"
   ]
  },
  {
   "cell_type": "code",
   "execution_count": 10,
   "metadata": {
    "collapsed": true
   },
   "outputs": [],
   "source": [
    "def get_data_depart(department=None, province=None, district=None):\n",
    "    if department:\n",
    "        browser.find_element_by_xpath('//*[@id=\"cboDepartamento\"]/option[contains(text(), \"'+department+'\")]').click()\n",
    "        get_data_prov(province,district)\n",
    "    else:\n",
    "        #time.sleep(1)\n",
    "        dep_list = browser.find_element_by_xpath('//*[@id=\"cboDepartamento\"]').find_elements_by_tag_name(\"option\")\n",
    "        for i in range(1,len(dep_list)):\n",
    "            dep_name = dep_list[i].text\n",
    "            browser.find_element_by_xpath('//*[@id=\"cboDepartamento\"]/option[contains(text(), \"'+dep_name+'\")]').click()\n",
    "            get_data_prov(province,district)"
   ]
  },
  {
   "cell_type": "code",
   "execution_count": null,
   "metadata": {
    "collapsed": false,
    "scrolled": true
   },
   "outputs": [
    {
     "name": "stdout",
     "output_type": "stream",
     "text": [
      "CANGALLO\n",
      "61\n"
     ]
    }
   ],
   "source": [
    "get_data_depart(\"AYACUCHO\")"
   ]
  },
  {
   "cell_type": "code",
   "execution_count": null,
   "metadata": {
    "collapsed": false
   },
   "outputs": [],
   "source": [
    "#need to redownload the first amazonas xls"
   ]
  },
  {
   "cell_type": "code",
   "execution_count": 12,
   "metadata": {
    "collapsed": false
   },
   "outputs": [
    {
     "data": {
      "text/html": [
       "<div>\n",
       "<table border=\"1\" class=\"dataframe\">\n",
       "  <thead>\n",
       "    <tr style=\"text-align: right;\">\n",
       "      <th></th>\n",
       "      <th>ACTIVIDAD_VOLCANICA</th>\n",
       "      <th>AGUA_POR_RED_PUBLICA</th>\n",
       "      <th>ALTITUD</th>\n",
       "      <th>ALUMBRADO_PUBLICO</th>\n",
       "      <th>BARRANCOS_O_PRECIPICIOS</th>\n",
       "      <th>CABINA_DE_INTERNET</th>\n",
       "      <th>CANALES_DE_DRENAJE_EN_LAS_CALLES_PARA_LA_EVACUACION_DE_LAS_AGUA</th>\n",
       "      <th>CATEGORIA</th>\n",
       "      <th>CENTRO_POBLADO</th>\n",
       "      <th>CODIGO_DE_UBIGEO_Y_CENTRO_POBLADO</th>\n",
       "      <th>...</th>\n",
       "      <th>TIEMPO_EN_MINUTOS_HACIA_LA_CAPITAL_DEL_DISTRITO</th>\n",
       "      <th>TRANSPORTE_DE_MAYOR_USO</th>\n",
       "      <th>TSUNAMI_U_OLEADAS_ANOMALOS</th>\n",
       "      <th>UNA_VIA_FERREA</th>\n",
       "      <th>UN_CUARTEL_MILITAR_O_POLICIAL</th>\n",
       "      <th>UN_LECHO_DE_RIO_O_QUEBRADA</th>\n",
       "      <th>VENDAVALES</th>\n",
       "      <th>VIA_DE_MAYOR_USO</th>\n",
       "      <th>VIVIENDA</th>\n",
       "      <th>ZONAS_AEREOPORTUARIAS</th>\n",
       "    </tr>\n",
       "  </thead>\n",
       "  <tbody>\n",
       "    <tr>\n",
       "      <th>0</th>\n",
       "      <td>no</td>\n",
       "      <td>si</td>\n",
       "      <td>2510</td>\n",
       "      <td>si</td>\n",
       "      <td>si</td>\n",
       "      <td>si</td>\n",
       "      <td>si</td>\n",
       "      <td>-</td>\n",
       "      <td>SELVA ALEGRE</td>\n",
       "      <td>0401020001</td>\n",
       "      <td>...</td>\n",
       "      <td>0</td>\n",
       "      <td>-</td>\n",
       "      <td>no</td>\n",
       "      <td>no</td>\n",
       "      <td>no</td>\n",
       "      <td>no</td>\n",
       "      <td>si</td>\n",
       "      <td>-</td>\n",
       "      <td>1800</td>\n",
       "      <td>no</td>\n",
       "    </tr>\n",
       "    <tr>\n",
       "      <th>1</th>\n",
       "      <td>-</td>\n",
       "      <td>-</td>\n",
       "      <td>2428.6</td>\n",
       "      <td>-</td>\n",
       "      <td>-</td>\n",
       "      <td>-</td>\n",
       "      <td>-</td>\n",
       "      <td>-</td>\n",
       "      <td>AREQUIPA</td>\n",
       "      <td>0401010001</td>\n",
       "      <td>...</td>\n",
       "      <td>0</td>\n",
       "      <td>-</td>\n",
       "      <td>-</td>\n",
       "      <td>-</td>\n",
       "      <td>-</td>\n",
       "      <td>-</td>\n",
       "      <td>-</td>\n",
       "      <td>-</td>\n",
       "      <td>-</td>\n",
       "      <td>-</td>\n",
       "    </tr>\n",
       "    <tr>\n",
       "      <th>2</th>\n",
       "      <td>no</td>\n",
       "      <td>si</td>\n",
       "      <td>2531.3</td>\n",
       "      <td>si</td>\n",
       "      <td>no</td>\n",
       "      <td>si</td>\n",
       "      <td>si</td>\n",
       "      <td>-</td>\n",
       "      <td>CAYMA</td>\n",
       "      <td>0401030001</td>\n",
       "      <td>...</td>\n",
       "      <td>0</td>\n",
       "      <td>-</td>\n",
       "      <td>no</td>\n",
       "      <td>no</td>\n",
       "      <td>no</td>\n",
       "      <td>no</td>\n",
       "      <td>no</td>\n",
       "      <td>-</td>\n",
       "      <td>17987</td>\n",
       "      <td>no</td>\n",
       "    </tr>\n",
       "    <tr>\n",
       "      <th>3</th>\n",
       "      <td>-</td>\n",
       "      <td>-</td>\n",
       "      <td>2981.8</td>\n",
       "      <td>no</td>\n",
       "      <td>-</td>\n",
       "      <td>no</td>\n",
       "      <td>-</td>\n",
       "      <td>-</td>\n",
       "      <td>CHAMPI CHICO</td>\n",
       "      <td>0401030004</td>\n",
       "      <td>...</td>\n",
       "      <td>0</td>\n",
       "      <td>-</td>\n",
       "      <td>-</td>\n",
       "      <td>-</td>\n",
       "      <td>-</td>\n",
       "      <td>-</td>\n",
       "      <td>-</td>\n",
       "      <td>-</td>\n",
       "      <td>1</td>\n",
       "      <td>-</td>\n",
       "    </tr>\n",
       "    <tr>\n",
       "      <th>4</th>\n",
       "      <td>-</td>\n",
       "      <td>-</td>\n",
       "      <td>3243.5</td>\n",
       "      <td>no</td>\n",
       "      <td>-</td>\n",
       "      <td>no</td>\n",
       "      <td>-</td>\n",
       "      <td>-</td>\n",
       "      <td>TOCRAL</td>\n",
       "      <td>0401030005</td>\n",
       "      <td>...</td>\n",
       "      <td>0</td>\n",
       "      <td>-</td>\n",
       "      <td>-</td>\n",
       "      <td>-</td>\n",
       "      <td>-</td>\n",
       "      <td>-</td>\n",
       "      <td>-</td>\n",
       "      <td>-</td>\n",
       "      <td>1</td>\n",
       "      <td>-</td>\n",
       "    </tr>\n",
       "  </tbody>\n",
       "</table>\n",
       "<p>5 rows × 65 columns</p>\n",
       "</div>"
      ],
      "text/plain": [
       "  ACTIVIDAD_VOLCANICA AGUA_POR_RED_PUBLICA ALTITUD ALUMBRADO_PUBLICO  \\\n",
       "0                  no                   si    2510                si   \n",
       "1                   -                    -  2428.6                 -   \n",
       "2                  no                   si  2531.3                si   \n",
       "3                   -                    -  2981.8                no   \n",
       "4                   -                    -  3243.5                no   \n",
       "\n",
       "  BARRANCOS_O_PRECIPICIOS CABINA_DE_INTERNET  \\\n",
       "0                      si                 si   \n",
       "1                       -                  -   \n",
       "2                      no                 si   \n",
       "3                       -                 no   \n",
       "4                       -                 no   \n",
       "\n",
       "  CANALES_DE_DRENAJE_EN_LAS_CALLES_PARA_LA_EVACUACION_DE_LAS_AGUA CATEGORIA  \\\n",
       "0                                                 si                      -   \n",
       "1                                                  -                      -   \n",
       "2                                                 si                      -   \n",
       "3                                                  -                      -   \n",
       "4                                                  -                      -   \n",
       "\n",
       "  CENTRO_POBLADO CODIGO_DE_UBIGEO_Y_CENTRO_POBLADO          ...           \\\n",
       "0   SELVA ALEGRE                        0401020001          ...            \n",
       "1       AREQUIPA                        0401010001          ...            \n",
       "2          CAYMA                        0401030001          ...            \n",
       "3   CHAMPI CHICO                        0401030004          ...            \n",
       "4         TOCRAL                        0401030005          ...            \n",
       "\n",
       "  TIEMPO_EN_MINUTOS_HACIA_LA_CAPITAL_DEL_DISTRITO TRANSPORTE_DE_MAYOR_USO  \\\n",
       "0                                               0                       -   \n",
       "1                                               0                       -   \n",
       "2                                               0                       -   \n",
       "3                                               0                       -   \n",
       "4                                               0                       -   \n",
       "\n",
       "  TSUNAMI_U_OLEADAS_ANOMALOS UNA_VIA_FERREA UN_CUARTEL_MILITAR_O_POLICIAL  \\\n",
       "0                         no             no                            no   \n",
       "1                          -              -                             -   \n",
       "2                         no             no                            no   \n",
       "3                          -              -                             -   \n",
       "4                          -              -                             -   \n",
       "\n",
       "  UN_LECHO_DE_RIO_O_QUEBRADA VENDAVALES VIA_DE_MAYOR_USO VIVIENDA  \\\n",
       "0                         no         si                -     1800   \n",
       "1                          -          -                -        -   \n",
       "2                         no         no                -    17987   \n",
       "3                          -          -                -        1   \n",
       "4                          -          -                -        1   \n",
       "\n",
       "  ZONAS_AEREOPORTUARIAS  \n",
       "0                    no  \n",
       "1                     -  \n",
       "2                    no  \n",
       "3                     -  \n",
       "4                     -  \n",
       "\n",
       "[5 rows x 65 columns]"
      ]
     },
     "execution_count": 12,
     "metadata": {},
     "output_type": "execute_result"
    }
   ],
   "source": [
    "out_list = pd.DataFrame(out_list)\n",
    "out_list.head()"
   ]
  },
  {
   "cell_type": "code",
   "execution_count": 13,
   "metadata": {
    "collapsed": false,
    "scrolled": true
   },
   "outputs": [],
   "source": [
    "dl_out = {\"DEPARTAMENTO\":[],\"PROVINCIA\":[], \"DISTRITO\": [],\n",
    "          'TOTAL_DE_CENTROS_POBLADOS':[],'VIVIENDA_PARTICULAR':[],'ESTABLECIMIENTO':[],\n",
    "          'VIVIENDA_ESTABLECIMENTO':[],'VIVIENDA_COLECTIVA':[],'OTRO_TIPO_DE_REGISTRO':[],\n",
    "         'VIVIENDA_CON_OCUPANTES_PRESENTES':[],'VIVIENDA_CON_OCUPANTES_AUSENTES':[],\n",
    "         'VIVIENDA_EN_ALQUILER_O_VENTA':[], 'VIVIENDA_EN_CONSTRUCCION_O_REPARACION':[],\n",
    "         'VIVIENDA_ABANDONADA_O_CERRADA':[],'OTRO_TIPO_DE_VIVIENDA_DESOCUPADA':[],'TOTAL_DE_PERSONAS':[],\n",
    "         'TOTAL_DE_MUJERES':[],'TOTAL_DE_HOMBRES':[], 'POBLACION_DE_14_AGE':[], 'POBLACION_DE_15_64_AGE':[],\n",
    "         'POBLACION_DE_65_MAS_AGE':[],'ESTABLECIMIENTO_ACTIVO':[],'ESTABLECIMIENTO_INACTIVO':[],\n",
    "         'ESTABLECIMIENTO_EN_CONSTRUCCION':[],'NUMERO_DE_TRABAJADORES':[]}\n",
    "dl_name = [\"DEPARTAMENTO\",\"PROVINCIA\",\"DISTRITO\",'TOTAL_DE_CENTROS_POBLADOS',\n",
    "           'VIVIENDA_PARTICULAR','ESTABLECIMIENTO',\n",
    "          'VIVIENDA_ESTABLECIMENTO','VIVIENDA_COLECTIVA','OTRO_TIPO_DE_REGISTRO',\n",
    "         'VIVIENDA_CON_OCUPANTES_PRESENTES','VIVIENDA_CON_OCUPANTES_AUSENTES',\n",
    "         'VIVIENDA_EN_ALQUILER_O_VENTA', 'VIVIENDA_EN_CONSTRUCCION_O_REPARACION',\n",
    "         'VIVIENDA_ABANDONADA_O_CERRADA','OTRO_TIPO_DE_VIVIENDA_DESOCUPADA','TOTAL_DE_PERSONAS',\n",
    "         'TOTAL_DE_MUJERES','TOTAL_DE_HOMBRES','POBLACION_DE_14_AGE','POBLACION_DE_15_64_AGE',\n",
    "         'POBLACION_DE_65_MAS_AGE','ESTABLECIMIENTO_ACTIVO','ESTABLECIMIENTO_INACTIVO',\n",
    "         'ESTABLECIMIENTO_EN_CONSTRUCCION','NUMERO_DE_TRABAJADORES']\n",
    "path = 'INEI1993_scrape/download_data'\n",
    "for infile in sorted(glob.glob(os.path.join(path, '*.xls')),key=os.path.getmtime):\n",
    "    file_ex = io.open(infile, \"r\")\n",
    "    data = file_ex.readlines()\n",
    "    data1 = data[33].split(\"<tr>\")\n",
    "    for i in range(1,26):\n",
    "        dl_out[dl_name[i-1]].append(data1[i].split(\"<td>\")[2].split(\"</td>\")[0])"
   ]
  },
  {
   "cell_type": "code",
   "execution_count": 14,
   "metadata": {
    "collapsed": false,
    "scrolled": true
   },
   "outputs": [],
   "source": [
    "dl_out = pd.DataFrame(dl_out)"
   ]
  },
  {
   "cell_type": "code",
   "execution_count": null,
   "metadata": {
    "collapsed": false
   },
   "outputs": [],
   "source": [
    "dl_out.head()"
   ]
  },
  {
   "cell_type": "code",
   "execution_count": null,
   "metadata": {
    "collapsed": false,
    "scrolled": true
   },
   "outputs": [],
   "source": [
    "len(dl_out)"
   ]
  },
  {
   "cell_type": "code",
   "execution_count": 15,
   "metadata": {
    "collapsed": false
   },
   "outputs": [],
   "source": [
    "inei_2017_a = pd.merge(out_list,dl_out,on=[\"DEPARTAMENTO\",\"PROVINCIA\",\"DISTRITO\"])"
   ]
  },
  {
   "cell_type": "code",
   "execution_count": null,
   "metadata": {
    "collapsed": false
   },
   "outputs": [],
   "source": [
    "len(inei_2017_a)"
   ]
  },
  {
   "cell_type": "code",
   "execution_count": 16,
   "metadata": {
    "collapsed": false
   },
   "outputs": [],
   "source": [
    "inei_2017_a.to_csv(\"inei_2017_ayacucho.csv\")"
   ]
  },
  {
   "cell_type": "code",
   "execution_count": null,
   "metadata": {
    "collapsed": false
   },
   "outputs": [],
   "source": [
    "example.to_csv(\"amazonas_inei_2007.csv\")"
   ]
  },
  {
   "cell_type": "code",
   "execution_count": null,
   "metadata": {
    "collapsed": false
   },
   "outputs": [],
   "source": [
    "len(out_list)"
   ]
  },
  {
   "cell_type": "code",
   "execution_count": null,
   "metadata": {
    "collapsed": false
   },
   "outputs": [],
   "source": []
  }
 ],
 "metadata": {
  "anaconda-cloud": {},
  "kernelspec": {
   "display_name": "Python [conda root]",
   "language": "python",
   "name": "conda-root-py"
  },
  "language_info": {
   "codemirror_mode": {
    "name": "ipython",
    "version": 3
   },
   "file_extension": ".py",
   "mimetype": "text/x-python",
   "name": "python",
   "nbconvert_exporter": "python",
   "pygments_lexer": "ipython3",
   "version": "3.5.4"
  }
 },
 "nbformat": 4,
 "nbformat_minor": 1
}
