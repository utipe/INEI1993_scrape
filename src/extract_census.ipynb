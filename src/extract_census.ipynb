{
 "cells": [
  {
   "cell_type": "code",
   "execution_count": 1,
   "metadata": {
    "collapsed": true
   },
   "outputs": [],
   "source": [
    "import pandas as pd\n",
    "import requests,re,os\n",
    "from selenium import webdriver\n",
    "from selenium.webdriver.support.ui import WebDriverWait\n",
    "from selenium.webdriver.support import expected_conditions as EC\n",
    "from selenium.common.exceptions import TimeoutException\n",
    "import time"
   ]
  },
  {
   "cell_type": "code",
   "execution_count": 2,
   "metadata": {
    "collapsed": false
   },
   "outputs": [],
   "source": [
    "os.chdir(os.path.abspath(os.path.join(os.getcwd(), os.pardir, os.pardir)))"
   ]
  },
  {
   "cell_type": "code",
   "execution_count": 3,
   "metadata": {
    "collapsed": false
   },
   "outputs": [],
   "source": [
    "path_to_chromedriver ='/home/an/chromedriver'"
   ]
  },
  {
   "cell_type": "code",
   "execution_count": 4,
   "metadata": {
    "collapsed": false
   },
   "outputs": [],
   "source": [
    "browser = webdriver.Chrome(executable_path = path_to_chromedriver)"
   ]
  },
  {
   "cell_type": "code",
   "execution_count": 5,
   "metadata": {
    "collapsed": false
   },
   "outputs": [],
   "source": [
    "url = \"http://censos.inei.gob.pe/bcoCuadros/bancocuadro.asp?p=14\""
   ]
  },
  {
   "cell_type": "code",
   "execution_count": 6,
   "metadata": {
    "collapsed": true
   },
   "outputs": [],
   "source": [
    "browser.get(url)"
   ]
  },
  {
   "cell_type": "code",
   "execution_count": 7,
   "metadata": {
    "collapsed": false
   },
   "outputs": [],
   "source": [
    "browser.switch_to_frame('panel2')"
   ]
  },
  {
   "cell_type": "code",
   "execution_count": 8,
   "metadata": {
    "collapsed": true
   },
   "outputs": [],
   "source": [
    "outcome = {\"Departmento\":[],\"Provincia\":[],\"Distrito\":[],\"Categoria\":[],\"CentroProblado\":[],\"Pop\":[],\"PopMale\":[],\n",
    "           \"PopFemale\":[], \"PopAgeAll\":[],\"PopAge0\":[],\"PopAge1_4\":[], \"PopAge5_14\":[],\"PopAge15_64\":[],\n",
    "           \"PopAge65_\":[], \"BornSameDistrict\":[],\"BornOtherDistrict\":[], \"BornOtherProvince\":[], \"DisabAll\":[], \n",
    "           \"DisabBlind\":[],\"DisabMental\":[], \"DisabPolio\":[], \"DisabUpperLimb\":[],\"DisabLowerLimb\":[], \n",
    "           \"DisabOther\":[],\"IlliteAll\":[],\"IlliteMale\":[], \"IlliteFemale\":[], \"EduNo\":[], \"EduPresch\":[],\n",
    "           \"EduPrimary\":[], \"EduSecondary\":[], \"EduHigher\":[], \"LaborAge6_14\":[], \"LaborAge15_\":[],\n",
    "           \"LaborAge15_Active\":[],\"LaborAge15_Inactive\":[], \"PriOccuAgri\":[], \"PriOccuWorker\":[],\"PriOccuRetail\":[], \n",
    "           \"PriOccuPettyTrade\":[], \"PriOccuInformal\":[], \"PriOccuOther\":[], \"OccuWage\":[],\"OccuSelf\":[], \n",
    "           \"OccuEmployer\":[], \"OccuFamily\":[], \"OccuDomest\":[], \"ActPrimary\":[], \"ActSecondary\":[], \n",
    "           \"ActTertiary\":[], \"MariCohabi\":[], \"MariMarried\":[], \"MariSingle\":[], \"MariOther\":[], \"HeadAll\":[], \n",
    "           \"HeadMale\":[], \"HeadFemale\":[], \"ChildWomenAge40_49\":[], \"Child4_WomenAge15_49\":[], \"MothSingle\":[], \n",
    "           \"MothSingleAge12_19\":[], \"MothSingleAge20_29\":[], \"MothSingleAge30_49\":[], \"MothAge12_19\":[], \n",
    "           \"NoDwell\":[], \"NoHhld\":[], \"HhldSize\":[], \"DwellAll\":[], \"DwellInd\":[], \"DwellImpro\":[], \"DwellOther\":[], \n",
    "           \"Prop\":[], \"PropOwn\":[], \"PropRent\":[], \"PropDefa\":[], \"PropOther\":[], \"WallAll\":[], \"WallBrick\":[], \n",
    "           \"WallCane\":[], \"WallStone\":[], \"WallWood\":[], \"WallMat\":[], \"WallOther\":[], \"RoofAll\":[], \"RoofConc\":[], \n",
    "           \"RoofCalam\":[], \"RoofCane\":[], \"RoofPalm\":[], \"RoofOther\":[], \"WaterAll\":[], \"WaterPiped\":[], \n",
    "           \"WaterPipedPublic\":[], \"WaterTank\":[], \"WaterOther\":[], \"ToiletAll\":[], \"ToiletPublic\":[], \n",
    "           \"ToiletPit\":[], \"ToiletOther\":[], \"ToiletNone\":[], \"ElectAll\":[], \"ElectYes\":[], \"ElectNo\":[], \n",
    "           \"DwellRoom1\":[], \"HhldSleepNo\":[], \"HhldSanitShared\":[], \"HhldEarn\":[], \"AssetAppliNo\":[], \n",
    "           \"AssetRadio\":[], \"AssetTV\":[], \"AssetSew\":[], \"AssetRefri\":[], \"AssetTricycle\":[], \"AssetAppli4_\":[]}"
   ]
  },
  {
   "cell_type": "code",
   "execution_count": 9,
   "metadata": {
    "collapsed": true
   },
   "outputs": [],
   "source": [
    "def extract_text(text, depart, province, district, cate, centro):\n",
    "    outcome[\"Departmento\"].append(depart)\n",
    "    outcome[\"Provincia\"].append(province)\n",
    "    outcome[\"Distrito\"].append(district)\n",
    "    outcome[\"Categoria\"].append(cate)\n",
    "    outcome[\"CentroProblado\"].append(centro)\n",
    "    temp = text.split(\"\\n\")\n",
    "    outcome[\"Pop\"].append(temp[1].split(\" \")[-1])\n",
    "    outcome[\"PopMale\"].append(temp[2].split(\" \")[-1])\n",
    "    outcome[\"PopFemale\"].append(temp[3].split(\" \")[-1])\n",
    "    outcome[\"PopAgeAll\"].append(temp[4].split(\" \")[-1])\n",
    "    outcome[\"PopAge0\"].append(temp[5].split(\" \")[-1])\n",
    "    outcome[\"PopAge1_4\"].append(temp[6].split(\" \")[-1])\n",
    "    outcome[\"PopAge5_14\"].append(temp[7].split(\" \")[-1])\n",
    "    outcome[\"PopAge15_64\"].append(temp[8].split(\" \")[-1])\n",
    "    outcome[\"PopAge65_\"].append(temp[9].split(\" \")[-1])\n",
    "    outcome[\"BornSameDistrict\"].append(temp[11].split(\" \")[-1])\n",
    "    outcome[\"BornOtherDistrict\"].append(temp[12].split(\" \")[-1])\n",
    "    outcome[\"BornOtherProvince\"].append(temp[13].split(\" \")[-1])\n",
    "    outcome[\"DisabAll\"].append(temp[14].split(\" \")[-1])\n",
    "    outcome[\"DisabBlind\"].append(temp[15].split(\" \")[-1])\n",
    "    outcome[\"DisabMental\"].append(temp[16].split(\" \")[-1])\n",
    "    outcome[\"DisabPolio\"].append(temp[17].split(\" \")[-1])\n",
    "    outcome[\"DisabUpperLimb\"].append(temp[18].split(\" \")[-1])\n",
    "    outcome[\"DisabLowerLimb\"].append(temp[19].split(\" \")[-1])\n",
    "    outcome[\"DisabOther\"].append(temp[20].split(\" \")[-1])\n",
    "    outcome[\"IlliteAll\"].append(temp[22].split(\" \")[-1])\n",
    "    outcome[\"IlliteMale\"].append(temp[23].split(\" \")[-1])\n",
    "    outcome[\"IlliteFemale\"].append(temp[24].split(\" \")[-1])\n",
    "    outcome[\"EduNo\"].append(temp[26].split(\" \")[-1])\n",
    "    outcome[\"EduPresch\"].append(temp[27].split(\" \")[-1])\n",
    "    outcome[\"EduPrimary\"].append(temp[28].split(\" \")[-1])\n",
    "    outcome[\"EduSecondary\"].append(temp[29].split(\" \")[-1])\n",
    "    outcome[\"EduHigher\"].append(temp[30].split(\" \")[-1])\n",
    "    outcome[\"LaborAge6_14\"].append(temp[32].split(\" \")[-1])\n",
    "    outcome[\"LaborAge15_\"].append(temp[33].split(\" \")[-1])\n",
    "    outcome[\"LaborAge15_Active\"].append(temp[34].split(\" \")[-1])\n",
    "    outcome[\"LaborAge15_Inactive\"].append(temp[35].split(\" \")[-1])\n",
    "    outcome[\"PriOccuAgri\"].append(temp[37].split(\" \")[-1])\n",
    "    outcome[\"PriOccuWorker\"].append(temp[38].split(\" \")[-1])\n",
    "    outcome[\"PriOccuRetail\"].append(temp[39].split(\" \")[-1])\n",
    "    outcome[\"PriOccuPettyTrade\"].append(temp[40].split(\" \")[-1])\n",
    "    outcome[\"PriOccuInformal\"].append(temp[41].split(\" \")[-1])\n",
    "    outcome[\"PriOccuOther\"].append(temp[42].split(\" \")[-1])\n",
    "    outcome[\"OccuWage\"].append(temp[44].split(\" \")[-1])\n",
    "    outcome[\"OccuSelf\"].append(temp[45].split(\" \")[-1])\n",
    "    outcome[\"OccuEmployer\"].append(temp[46].split(\" \")[-1])\n",
    "    outcome[\"OccuFamily\"].append(temp[47].split(\" \")[-1])\n",
    "    outcome[\"OccuDomest\"].append(temp[48].split(\" \")[-1])\n",
    "    outcome[\"ActPrimary\"].append(temp[50].split(\" \")[-1])\n",
    "    outcome[\"ActSecondary\"].append(temp[51].split(\" \")[-1])\n",
    "    outcome[\"ActTertiary\"].append(temp[52].split(\" \")[-1])\n",
    "    outcome[\"MariCohabi\"].append(temp[55].split(\" \")[-1])\n",
    "    outcome[\"MariMarried\"].append(temp[56].split(\" \")[-1])\n",
    "    outcome[\"MariSingle\"].append(temp[57].split(\" \")[-1])\n",
    "    outcome[\"MariOther\"].append(temp[58].split(\" \")[-1])\n",
    "    outcome[\"HeadAll\"].append(temp[59].split(\" \")[-1])\n",
    "    outcome[\"HeadMale\"].append(temp[60].split(\" \")[-1])\n",
    "    outcome[\"HeadFemale\"].append(temp[61].split(\" \")[-1])\n",
    "    outcome[\"ChildWomenAge40_49\"].append(temp[63].split(\" \")[-1])\n",
    "    outcome[\"Child4_WomenAge15_49\"].append(temp[64].split(\" \")[-1])\n",
    "    outcome[\"MothSingle\"].append(temp[65].split(\" \")[-1])\n",
    "    outcome[\"MothSingleAge12_19\"].append(temp[66].split(\" \")[-1])\n",
    "    outcome[\"MothSingleAge20_29\"].append(temp[67].split(\" \")[-1])\n",
    "    outcome[\"MothSingleAge30_49\"].append(temp[68].split(\" \")[-1])\n",
    "    outcome[\"MothAge12_19\"].append(temp[69].split(\" \")[-1])\n",
    "    outcome[\"NoDwell\"].append(temp[71].split(\" \")[-1])\n",
    "    outcome[\"NoHhld\"].append(temp[72].split(\" \")[-1])\n",
    "    outcome[\"HhldSize\"].append(temp[73].split(\" \")[-1])\n",
    "    outcome[\"DwellAll\"].append(temp[74].split(\" \")[-1])\n",
    "    outcome[\"DwellInd\"].append(temp[75].split(\" \")[-1])\n",
    "    outcome[\"DwellImpro\"].append(temp[76].split(\" \")[-1])\n",
    "    outcome[\"DwellOther\"].append(temp[77].split(\" \")[-1])\n",
    "    outcome[\"Prop\"].append(temp[78].split(\" \")[-1])\n",
    "    outcome[\"PropOwn\"].append(temp[79].split(\" \")[-1])\n",
    "    outcome[\"PropRent\"].append(temp[80].split(\" \")[-1])\n",
    "    outcome[\"PropDefa\"].append(temp[81].split(\" \")[-1])\n",
    "    outcome[\"PropOther\"].append(temp[82].split(\" \")[-1])\n",
    "    outcome[\"WallAll\"].append(temp[84].split(\" \")[-1])\n",
    "    outcome[\"WallBrick\"].append(temp[85].split(\" \")[-1])\n",
    "    outcome[\"WallCane\"].append(temp[86].split(\" \")[-1])\n",
    "    outcome[\"WallStone\"].append(temp[87].split(\" \")[-1])\n",
    "    outcome[\"WallWood\"].append(temp[88].split(\" \")[-1])\n",
    "    outcome[\"WallMat\"].append(temp[89].split(\" \")[-1])\n",
    "    outcome[\"WallOther\"].append(temp[90].split(\" \")[-1])\n",
    "    outcome[\"RoofAll\"].append(temp[91].split(\" \")[-1])\n",
    "    outcome[\"RoofConc\"].append(temp[92].split(\" \")[-1])\n",
    "    outcome[\"RoofCalam\"].append(temp[93].split(\" \")[-1])\n",
    "    outcome[\"RoofCane\"].append(temp[94].split(\" \")[-1])\n",
    "    outcome[\"RoofPalm\"].append(temp[95].split(\" \")[-1])\n",
    "    outcome[\"RoofOther\"].append(temp[96].split(\" \")[-1])\n",
    "    outcome[\"WaterAll\"].append(temp[98].split(\" \")[-1])\n",
    "    outcome[\"WaterPiped\"].append(temp[99].split(\" \")[-1])\n",
    "    outcome[\"WaterPipedPublic\"].append(temp[100].split(\" \")[-1])\n",
    "    outcome[\"WaterTank\"].append(temp[101].split(\" \")[-1])\n",
    "    outcome[\"WaterOther\"].append(temp[102].split(\" \")[-1])\n",
    "    outcome[\"ToiletAll\"].append(temp[103].split(\" \")[-1])\n",
    "    outcome[\"ToiletPublic\"].append(temp[104].split(\" \")[-1])\n",
    "    outcome[\"ToiletPit\"].append(temp[105].split(\" \")[-1])\n",
    "    outcome[\"ToiletOther\"].append(temp[106].split(\" \")[-1])\n",
    "    outcome[\"ToiletNone\"].append(temp[107].split(\" \")[-1])\n",
    "    outcome[\"ElectAll\"].append(temp[108].split(\" \")[-1])\n",
    "    outcome[\"ElectYes\"].append(temp[109].split(\" \")[-1])\n",
    "    outcome[\"ElectNo\"].append(temp[110].split(\" \")[-1])\n",
    "    outcome[\"DwellRoom1\"].append(temp[111].split(\" \")[-1])\n",
    "    outcome[\"HhldSleepNo\"].append(temp[113].split(\" \")[-1])\n",
    "    outcome[\"HhldSanitShared\"].append(temp[114].split(\" \")[-1])\n",
    "    outcome[\"HhldEarn\"].append(temp[115].split(\" \")[-1])\n",
    "    outcome[\"AssetAppliNo\"].append(temp[117].split(\" \")[-1])\n",
    "    outcome[\"AssetRadio\"].append(temp[118].split(\" \")[-1])\n",
    "    outcome[\"AssetTV\"].append(temp[119].split(\" \")[-1])\n",
    "    outcome[\"AssetSew\"].append(temp[120].split(\" \")[-1])\n",
    "    outcome[\"AssetRefri\"].append(temp[121].split(\" \")[-1])\n",
    "    outcome[\"AssetTricycle\"].append(temp[122].split(\" \")[-1])\n",
    "    outcome[\"AssetAppli4_\"].append(temp[123].split(\" \")[-1])  "
   ]
  },
  {
   "cell_type": "code",
   "execution_count": 10,
   "metadata": {
    "collapsed": false
   },
   "outputs": [],
   "source": [
    "def get_data_centro(depart, province, district, cate, centro=None):\n",
    "    if centro:\n",
    "        wait = WebDriverWait(browser, 10)\n",
    "        confirm = wait.until(lambda driver: driver.find_element_by_xpath('//*[@id=\"cmbCentroPoblado\"]/option[contains(text(), \"'+centro+'\")]'))\n",
    "        confirm.click()\n",
    "        browser.find_element_by_xpath('//*[@id=\"btnVer\"]').click()\n",
    "        browser.switch_to_frame('frmResultado')\n",
    "        browser.switch_to_frame(0)\n",
    "        temp = browser.find_element_by_xpath('/html/body/font/center/table/tbody/tr[3]/td/pre').text\n",
    "        extract_text(temp, depart, province, district, cate, centro)\n",
    "        browser.switch_to_default_content()\n",
    "        browser.switch_to_frame('panel2')\n",
    "    else:\n",
    "        time.sleep(2)\n",
    "        wait = WebDriverWait(browser, 10)\n",
    "        wait.until(lambda driver: len(driver.find_element_by_xpath('//*[@id=\"cmbCentroPoblado\"]').find_elements_by_tag_name(\"option\"))>1)\n",
    "        centro_lst = browser.find_element_by_xpath('//*[@id=\"cmbCentroPoblado\"]').find_elements_by_tag_name(\"option\")\n",
    "        for i in range(1,len(centro_lst)):\n",
    "            cen_name = centro_lst[i].text\n",
    "            browser.find_element_by_xpath('//*[@id=\"cmbCentroPoblado\"]/option[contains(text(), \"'+cen_name+'\")]').click()\n",
    "            browser.find_element_by_xpath('//*[@id=\"btnVer\"]').click()\n",
    "            try:\n",
    "                wait = WebDriverWait(browser, 1)\n",
    "                wait.until(EC.alert_is_present())\n",
    "                browser.switch_to.alert.accept()\n",
    "                print(\"alert accepted\")\n",
    "                browser.switch_to_default_content()\n",
    "                browser.switch_to_frame('panel2')\n",
    "            except TimeoutException:\n",
    "                browser.switch_to_frame('frmResultado')\n",
    "                browser.switch_to_frame(0)\n",
    "                temp = browser.find_element_by_xpath('/html/body/font/center/table/tbody/tr[3]/td/pre').text\n",
    "                extract_text(temp, depart, province, district, cate, cen_name)\n",
    "                browser.switch_to_default_content()\n",
    "                browser.switch_to_frame('panel2')"
   ]
  },
  {
   "cell_type": "code",
   "execution_count": 11,
   "metadata": {
    "collapsed": true
   },
   "outputs": [],
   "source": [
    "def get_data_cate(depart, province, district, cate=None, centro=None):\n",
    "    if cate:\n",
    "        wait = WebDriverWait(browser, 10)\n",
    "        confirm = wait.until(lambda driver: driver.find_element_by_xpath('//*[@id=\"cmbCategoria\"]/option[contains(text(), \"'+cate+'\")]'))\n",
    "        confirm.click()\n",
    "        get_data_centro(depart, province, district, cate, centro)\n",
    "    else:\n",
    "        time.sleep(2)\n",
    "        wait = WebDriverWait(browser, 10)\n",
    "        wait.until(lambda driver: len(driver.find_element_by_xpath('//*[@id=\"cmbCategoria\"]').find_elements_by_tag_name(\"option\"))>1)\n",
    "        cate_list =browser.find_element_by_xpath('//*[@id=\"cmbCategoria\"]').find_elements_by_tag_name(\"option\")\n",
    "        for i in range(1,len(cate_list)):\n",
    "            cate_name = cate_list[i].text\n",
    "            browser.find_element_by_xpath('//*[@id=\"cmbCategoria\"]/option[contains(text(), \"'+cate_name+'\")]').click()\n",
    "            get_data_centro(depart, province, district, cate_name, centro)"
   ]
  },
  {
   "cell_type": "code",
   "execution_count": 12,
   "metadata": {
    "collapsed": true
   },
   "outputs": [],
   "source": [
    "def get_data_dis(depart, province, district=None, cate=None, centro=None):\n",
    "    if district:\n",
    "        wait = WebDriverWait(browser, 10)\n",
    "        confirm = wait.until(lambda driver: driver.find_element_by_xpath('//*[@id=\"cmbDistrito\"]/option[contains(text(), \"'+district+'\")]'))\n",
    "        confirm.click()\n",
    "        get_data_cate(depart, province, district, cate, centro)\n",
    "    else:\n",
    "        time.sleep(2)\n",
    "        wait = WebDriverWait(browser, 10)\n",
    "        wait.until(lambda driver: len(driver.find_element_by_xpath('//*[@id=\"cmbDistrito\"]').find_elements_by_tag_name(\"option\"))>1)\n",
    "        dist_list=browser.find_element_by_xpath('//*[@id=\"cmbDistrito\"]').find_elements_by_tag_name(\"option\")\n",
    "        for i in range(1,len(dist_list)):\n",
    "            dist_name = dist_list[i].text\n",
    "            browser.find_element_by_xpath('//*[@id=\"cmbDistrito\"]/option[contains(text(), \"'+dist_name+'\")]').click()\n",
    "            get_data_cate(depart, province, dist_name, cate, centro)"
   ]
  },
  {
   "cell_type": "code",
   "execution_count": 13,
   "metadata": {
    "collapsed": true
   },
   "outputs": [],
   "source": [
    "def get_data_prov(depart, province=None, district=None, cate=None, centro=None):\n",
    "    if province:\n",
    "        wait = WebDriverWait(browser, 10)\n",
    "        confirm = wait.until(lambda driver: driver.find_element_by_xpath('//*[@id=\"cmbProvincia\"]/option[contains(text(), \"'+province+'\")]'))\n",
    "        confirm.click()\n",
    "        get_data_dis(depart, province, district, cate, centro)\n",
    "    else:\n",
    "        time.sleep(2)\n",
    "        wait = WebDriverWait(browser, 10)\n",
    "        confirm = wait.until(lambda driver: len(driver.find_element_by_xpath('//*[@id=\"cmbProvincia\"]').find_elements_by_tag_name(\"option\"))>1)\n",
    "        prov_list=browser.find_element_by_xpath('//*[@id=\"cmbProvincia\"]').find_elements_by_tag_name(\"option\")\n",
    "        for i in range(1,len(prov_list)):\n",
    "            prov_name = prov_list[i].text\n",
    "            browser.find_element_by_xpath('//*[@id=\"cmbProvincia\"]/option[contains(text(), \"'+prov_name+'\")]').click()\n",
    "            get_data_dis(depart, prov_name, district, cate, centro)"
   ]
  },
  {
   "cell_type": "code",
   "execution_count": 14,
   "metadata": {
    "collapsed": false
   },
   "outputs": [],
   "source": [
    "def get_data(depart=None, province=None, district=None, cate=None, centro=None):\n",
    "    if depart:\n",
    "        browser.find_element_by_xpath('//*[@id=\"cmbDepartamento\"]/option[contains(text(), \"'+depart+'\")]').click()\n",
    "        get_data_prov(depart, province, district, cate, centro)\n",
    "    else:\n",
    "        time.sleep(2)\n",
    "        dep_list=browser.find_element_by_xpath('//*[@id=\"cmbDepartamento\"]').find_elements_by_tag_name(\"option\")\n",
    "        for i in range(1,len(dep_list)):\n",
    "            dep_name = dep_list[i].text\n",
    "            browser.find_element_by_xpath('//*[@id=\"cmbDepartamento\"]/option[contains(text(), \"'+dep_name+'\")]').click()\n",
    "            get_data_prov(dep_name, province, district, cate, centro)"
   ]
  },
  {
   "cell_type": "code",
   "execution_count": null,
   "metadata": {
    "collapsed": false,
    "scrolled": true
   },
   "outputs": [],
   "source": [
    "get_data(depart=\"AMAZONAS\")\n",
    "outcome = pd.DataFrame(outcome)\n",
    "outcome.to_csv(\"inei1993_amazonas.csv\")"
   ]
  },
  {
   "cell_type": "code",
   "execution_count": null,
   "metadata": {
    "collapsed": false,
    "scrolled": true
   },
   "outputs": [],
   "source": [
    "get_data(depart=\"ANCASH\")\n",
    "outcome = pd.DataFrame(outcome)\n",
    "outcome.to_csv(\"inei1993_ancash.csv\")"
   ]
  },
  {
   "cell_type": "code",
   "execution_count": 15,
   "metadata": {
    "collapsed": false
   },
   "outputs": [],
   "source": [
    "get_data(depart=\"APURIMAC\")\n",
    "outcome = pd.DataFrame(outcome)\n",
    "outcome.to_csv(\"inei1993_apurimac.csv\")"
   ]
  },
  {
   "cell_type": "code",
   "execution_count": 15,
   "metadata": {
    "collapsed": false
   },
   "outputs": [
    {
     "name": "stdout",
     "output_type": "stream",
     "text": [
      "alert accepted\n"
     ]
    },
    {
     "ename": "NoSuchFrameException",
     "evalue": "Message: no such frame\n  (Session info: chrome=64.0.3282.186)\n  (Driver info: chromedriver=2.33.506092 (733a02544d189eeb751fe0d7ddca79a0ee28cce4),platform=Linux 4.13.0-36-generic x86_64)\n",
     "output_type": "error",
     "traceback": [
      "\u001b[0;31m---------------------------------------------------------------------------\u001b[0m",
      "\u001b[0;31mTimeoutException\u001b[0m                          Traceback (most recent call last)",
      "\u001b[0;32m<ipython-input-10-fd185e1969b0>\u001b[0m in \u001b[0;36mget_data_centro\u001b[0;34m(depart, province, district, cate, centro)\u001b[0m\n\u001b[1;32m     23\u001b[0m                 \u001b[0mwait\u001b[0m \u001b[0;34m=\u001b[0m \u001b[0mWebDriverWait\u001b[0m\u001b[0;34m(\u001b[0m\u001b[0mbrowser\u001b[0m\u001b[0;34m,\u001b[0m \u001b[0;36m1\u001b[0m\u001b[0;34m)\u001b[0m\u001b[0;34m\u001b[0m\u001b[0m\n\u001b[0;32m---> 24\u001b[0;31m                 \u001b[0mwait\u001b[0m\u001b[0;34m.\u001b[0m\u001b[0muntil\u001b[0m\u001b[0;34m(\u001b[0m\u001b[0mEC\u001b[0m\u001b[0;34m.\u001b[0m\u001b[0malert_is_present\u001b[0m\u001b[0;34m(\u001b[0m\u001b[0;34m)\u001b[0m\u001b[0;34m)\u001b[0m\u001b[0;34m\u001b[0m\u001b[0m\n\u001b[0m\u001b[1;32m     25\u001b[0m                 \u001b[0mbrowser\u001b[0m\u001b[0;34m.\u001b[0m\u001b[0mswitch_to\u001b[0m\u001b[0;34m.\u001b[0m\u001b[0malert\u001b[0m\u001b[0;34m.\u001b[0m\u001b[0maccept\u001b[0m\u001b[0;34m(\u001b[0m\u001b[0;34m)\u001b[0m\u001b[0;34m\u001b[0m\u001b[0m\n",
      "\u001b[0;32m/home/an/anaconda/lib/python3.5/site-packages/selenium/webdriver/support/wait.py\u001b[0m in \u001b[0;36muntil\u001b[0;34m(self, method, message)\u001b[0m\n\u001b[1;32m     79\u001b[0m                 \u001b[0;32mbreak\u001b[0m\u001b[0;34m\u001b[0m\u001b[0m\n\u001b[0;32m---> 80\u001b[0;31m         \u001b[0;32mraise\u001b[0m \u001b[0mTimeoutException\u001b[0m\u001b[0;34m(\u001b[0m\u001b[0mmessage\u001b[0m\u001b[0;34m,\u001b[0m \u001b[0mscreen\u001b[0m\u001b[0;34m,\u001b[0m \u001b[0mstacktrace\u001b[0m\u001b[0;34m)\u001b[0m\u001b[0;34m\u001b[0m\u001b[0m\n\u001b[0m\u001b[1;32m     81\u001b[0m \u001b[0;34m\u001b[0m\u001b[0m\n",
      "\u001b[0;31mTimeoutException\u001b[0m: Message: \n",
      "\nDuring handling of the above exception, another exception occurred:\n",
      "\u001b[0;31mNoSuchFrameException\u001b[0m                      Traceback (most recent call last)",
      "\u001b[0;32m<ipython-input-15-accbb2727421>\u001b[0m in \u001b[0;36m<module>\u001b[0;34m()\u001b[0m\n\u001b[0;32m----> 1\u001b[0;31m \u001b[0mget_data\u001b[0m\u001b[0;34m(\u001b[0m\u001b[0mdepart\u001b[0m\u001b[0;34m=\u001b[0m\u001b[0;34m\"AREQUIPA\"\u001b[0m\u001b[0;34m)\u001b[0m\u001b[0;34m\u001b[0m\u001b[0m\n\u001b[0m\u001b[1;32m      2\u001b[0m \u001b[0moutcome\u001b[0m \u001b[0;34m=\u001b[0m \u001b[0mpd\u001b[0m\u001b[0;34m.\u001b[0m\u001b[0mDataFrame\u001b[0m\u001b[0;34m(\u001b[0m\u001b[0moutcome\u001b[0m\u001b[0;34m)\u001b[0m\u001b[0;34m\u001b[0m\u001b[0m\n\u001b[1;32m      3\u001b[0m \u001b[0moutcome\u001b[0m\u001b[0;34m.\u001b[0m\u001b[0mto_csv\u001b[0m\u001b[0;34m(\u001b[0m\u001b[0;34m\"inei1993_arequipa.csv\"\u001b[0m\u001b[0;34m)\u001b[0m\u001b[0;34m\u001b[0m\u001b[0m\n",
      "\u001b[0;32m<ipython-input-14-035a434750cb>\u001b[0m in \u001b[0;36mget_data\u001b[0;34m(depart, province, district, cate, centro)\u001b[0m\n\u001b[1;32m      2\u001b[0m     \u001b[0;32mif\u001b[0m \u001b[0mdepart\u001b[0m\u001b[0;34m:\u001b[0m\u001b[0;34m\u001b[0m\u001b[0m\n\u001b[1;32m      3\u001b[0m         \u001b[0mbrowser\u001b[0m\u001b[0;34m.\u001b[0m\u001b[0mfind_element_by_xpath\u001b[0m\u001b[0;34m(\u001b[0m\u001b[0;34m'//*[@id=\"cmbDepartamento\"]/option[contains(text(), \"'\u001b[0m\u001b[0;34m+\u001b[0m\u001b[0mdepart\u001b[0m\u001b[0;34m+\u001b[0m\u001b[0;34m'\")]'\u001b[0m\u001b[0;34m)\u001b[0m\u001b[0;34m.\u001b[0m\u001b[0mclick\u001b[0m\u001b[0;34m(\u001b[0m\u001b[0;34m)\u001b[0m\u001b[0;34m\u001b[0m\u001b[0m\n\u001b[0;32m----> 4\u001b[0;31m         \u001b[0mget_data_prov\u001b[0m\u001b[0;34m(\u001b[0m\u001b[0mdepart\u001b[0m\u001b[0;34m,\u001b[0m \u001b[0mprovince\u001b[0m\u001b[0;34m,\u001b[0m \u001b[0mdistrict\u001b[0m\u001b[0;34m,\u001b[0m \u001b[0mcate\u001b[0m\u001b[0;34m,\u001b[0m \u001b[0mcentro\u001b[0m\u001b[0;34m)\u001b[0m\u001b[0;34m\u001b[0m\u001b[0m\n\u001b[0m\u001b[1;32m      5\u001b[0m     \u001b[0;32melse\u001b[0m\u001b[0;34m:\u001b[0m\u001b[0;34m\u001b[0m\u001b[0m\n\u001b[1;32m      6\u001b[0m         \u001b[0mtime\u001b[0m\u001b[0;34m.\u001b[0m\u001b[0msleep\u001b[0m\u001b[0;34m(\u001b[0m\u001b[0;36m2\u001b[0m\u001b[0;34m)\u001b[0m\u001b[0;34m\u001b[0m\u001b[0m\n",
      "\u001b[0;32m<ipython-input-13-a4dfc0c32815>\u001b[0m in \u001b[0;36mget_data_prov\u001b[0;34m(depart, province, district, cate, centro)\u001b[0m\n\u001b[1;32m     13\u001b[0m             \u001b[0mprov_name\u001b[0m \u001b[0;34m=\u001b[0m \u001b[0mprov_list\u001b[0m\u001b[0;34m[\u001b[0m\u001b[0mi\u001b[0m\u001b[0;34m]\u001b[0m\u001b[0;34m.\u001b[0m\u001b[0mtext\u001b[0m\u001b[0;34m\u001b[0m\u001b[0m\n\u001b[1;32m     14\u001b[0m             \u001b[0mbrowser\u001b[0m\u001b[0;34m.\u001b[0m\u001b[0mfind_element_by_xpath\u001b[0m\u001b[0;34m(\u001b[0m\u001b[0;34m'//*[@id=\"cmbProvincia\"]/option[contains(text(), \"'\u001b[0m\u001b[0;34m+\u001b[0m\u001b[0mprov_name\u001b[0m\u001b[0;34m+\u001b[0m\u001b[0;34m'\")]'\u001b[0m\u001b[0;34m)\u001b[0m\u001b[0;34m.\u001b[0m\u001b[0mclick\u001b[0m\u001b[0;34m(\u001b[0m\u001b[0;34m)\u001b[0m\u001b[0;34m\u001b[0m\u001b[0m\n\u001b[0;32m---> 15\u001b[0;31m             \u001b[0mget_data_dis\u001b[0m\u001b[0;34m(\u001b[0m\u001b[0mdepart\u001b[0m\u001b[0;34m,\u001b[0m \u001b[0mprov_name\u001b[0m\u001b[0;34m,\u001b[0m \u001b[0mdistrict\u001b[0m\u001b[0;34m,\u001b[0m \u001b[0mcate\u001b[0m\u001b[0;34m,\u001b[0m \u001b[0mcentro\u001b[0m\u001b[0;34m)\u001b[0m\u001b[0;34m\u001b[0m\u001b[0m\n\u001b[0m",
      "\u001b[0;32m<ipython-input-12-a2c73d03c8d1>\u001b[0m in \u001b[0;36mget_data_dis\u001b[0;34m(depart, province, district, cate, centro)\u001b[0m\n\u001b[1;32m     13\u001b[0m             \u001b[0mdist_name\u001b[0m \u001b[0;34m=\u001b[0m \u001b[0mdist_list\u001b[0m\u001b[0;34m[\u001b[0m\u001b[0mi\u001b[0m\u001b[0;34m]\u001b[0m\u001b[0;34m.\u001b[0m\u001b[0mtext\u001b[0m\u001b[0;34m\u001b[0m\u001b[0m\n\u001b[1;32m     14\u001b[0m             \u001b[0mbrowser\u001b[0m\u001b[0;34m.\u001b[0m\u001b[0mfind_element_by_xpath\u001b[0m\u001b[0;34m(\u001b[0m\u001b[0;34m'//*[@id=\"cmbDistrito\"]/option[contains(text(), \"'\u001b[0m\u001b[0;34m+\u001b[0m\u001b[0mdist_name\u001b[0m\u001b[0;34m+\u001b[0m\u001b[0;34m'\")]'\u001b[0m\u001b[0;34m)\u001b[0m\u001b[0;34m.\u001b[0m\u001b[0mclick\u001b[0m\u001b[0;34m(\u001b[0m\u001b[0;34m)\u001b[0m\u001b[0;34m\u001b[0m\u001b[0m\n\u001b[0;32m---> 15\u001b[0;31m             \u001b[0mget_data_cate\u001b[0m\u001b[0;34m(\u001b[0m\u001b[0mdepart\u001b[0m\u001b[0;34m,\u001b[0m \u001b[0mprovince\u001b[0m\u001b[0;34m,\u001b[0m \u001b[0mdist_name\u001b[0m\u001b[0;34m,\u001b[0m \u001b[0mcate\u001b[0m\u001b[0;34m,\u001b[0m \u001b[0mcentro\u001b[0m\u001b[0;34m)\u001b[0m\u001b[0;34m\u001b[0m\u001b[0m\n\u001b[0m",
      "\u001b[0;32m<ipython-input-11-155a8db631d8>\u001b[0m in \u001b[0;36mget_data_cate\u001b[0;34m(depart, province, district, cate, centro)\u001b[0m\n\u001b[1;32m     13\u001b[0m             \u001b[0mcate_name\u001b[0m \u001b[0;34m=\u001b[0m \u001b[0mcate_list\u001b[0m\u001b[0;34m[\u001b[0m\u001b[0mi\u001b[0m\u001b[0;34m]\u001b[0m\u001b[0;34m.\u001b[0m\u001b[0mtext\u001b[0m\u001b[0;34m\u001b[0m\u001b[0m\n\u001b[1;32m     14\u001b[0m             \u001b[0mbrowser\u001b[0m\u001b[0;34m.\u001b[0m\u001b[0mfind_element_by_xpath\u001b[0m\u001b[0;34m(\u001b[0m\u001b[0;34m'//*[@id=\"cmbCategoria\"]/option[contains(text(), \"'\u001b[0m\u001b[0;34m+\u001b[0m\u001b[0mcate_name\u001b[0m\u001b[0;34m+\u001b[0m\u001b[0;34m'\")]'\u001b[0m\u001b[0;34m)\u001b[0m\u001b[0;34m.\u001b[0m\u001b[0mclick\u001b[0m\u001b[0;34m(\u001b[0m\u001b[0;34m)\u001b[0m\u001b[0;34m\u001b[0m\u001b[0m\n\u001b[0;32m---> 15\u001b[0;31m             \u001b[0mget_data_centro\u001b[0m\u001b[0;34m(\u001b[0m\u001b[0mdepart\u001b[0m\u001b[0;34m,\u001b[0m \u001b[0mprovince\u001b[0m\u001b[0;34m,\u001b[0m \u001b[0mdistrict\u001b[0m\u001b[0;34m,\u001b[0m \u001b[0mcate_name\u001b[0m\u001b[0;34m,\u001b[0m \u001b[0mcentro\u001b[0m\u001b[0;34m)\u001b[0m\u001b[0;34m\u001b[0m\u001b[0m\n\u001b[0m",
      "\u001b[0;32m<ipython-input-10-fd185e1969b0>\u001b[0m in \u001b[0;36mget_data_centro\u001b[0;34m(depart, province, district, cate, centro)\u001b[0m\n\u001b[1;32m     29\u001b[0m             \u001b[0;32mexcept\u001b[0m \u001b[0mTimeoutException\u001b[0m\u001b[0;34m:\u001b[0m\u001b[0;34m\u001b[0m\u001b[0m\n\u001b[1;32m     30\u001b[0m                 \u001b[0mbrowser\u001b[0m\u001b[0;34m.\u001b[0m\u001b[0mswitch_to_frame\u001b[0m\u001b[0;34m(\u001b[0m\u001b[0;34m'frmResultado'\u001b[0m\u001b[0;34m)\u001b[0m\u001b[0;34m\u001b[0m\u001b[0m\n\u001b[0;32m---> 31\u001b[0;31m                 \u001b[0mbrowser\u001b[0m\u001b[0;34m.\u001b[0m\u001b[0mswitch_to_frame\u001b[0m\u001b[0;34m(\u001b[0m\u001b[0;36m0\u001b[0m\u001b[0;34m)\u001b[0m\u001b[0;34m\u001b[0m\u001b[0m\n\u001b[0m\u001b[1;32m     32\u001b[0m                 \u001b[0mtemp\u001b[0m \u001b[0;34m=\u001b[0m \u001b[0mbrowser\u001b[0m\u001b[0;34m.\u001b[0m\u001b[0mfind_element_by_xpath\u001b[0m\u001b[0;34m(\u001b[0m\u001b[0;34m'/html/body/font/center/table/tbody/tr[3]/td/pre'\u001b[0m\u001b[0;34m)\u001b[0m\u001b[0;34m.\u001b[0m\u001b[0mtext\u001b[0m\u001b[0;34m\u001b[0m\u001b[0m\n\u001b[1;32m     33\u001b[0m                 \u001b[0mextract_text\u001b[0m\u001b[0;34m(\u001b[0m\u001b[0mtemp\u001b[0m\u001b[0;34m,\u001b[0m \u001b[0mdepart\u001b[0m\u001b[0;34m,\u001b[0m \u001b[0mprovince\u001b[0m\u001b[0;34m,\u001b[0m \u001b[0mdistrict\u001b[0m\u001b[0;34m,\u001b[0m \u001b[0mcate\u001b[0m\u001b[0;34m,\u001b[0m \u001b[0mcen_name\u001b[0m\u001b[0;34m)\u001b[0m\u001b[0;34m\u001b[0m\u001b[0m\n",
      "\u001b[0;32m/home/an/anaconda/lib/python3.5/site-packages/selenium/webdriver/remote/webdriver.py\u001b[0m in \u001b[0;36mswitch_to_frame\u001b[0;34m(self, frame_reference)\u001b[0m\n\u001b[1;32m    661\u001b[0m         \"\"\"\n\u001b[1;32m    662\u001b[0m         \u001b[0mwarnings\u001b[0m\u001b[0;34m.\u001b[0m\u001b[0mwarn\u001b[0m\u001b[0;34m(\u001b[0m\u001b[0;34m\"use driver.switch_to.frame instead\"\u001b[0m\u001b[0;34m,\u001b[0m \u001b[0mDeprecationWarning\u001b[0m\u001b[0;34m)\u001b[0m\u001b[0;34m\u001b[0m\u001b[0m\n\u001b[0;32m--> 663\u001b[0;31m         \u001b[0mself\u001b[0m\u001b[0;34m.\u001b[0m\u001b[0m_switch_to\u001b[0m\u001b[0;34m.\u001b[0m\u001b[0mframe\u001b[0m\u001b[0;34m(\u001b[0m\u001b[0mframe_reference\u001b[0m\u001b[0;34m)\u001b[0m\u001b[0;34m\u001b[0m\u001b[0m\n\u001b[0m\u001b[1;32m    664\u001b[0m \u001b[0;34m\u001b[0m\u001b[0m\n\u001b[1;32m    665\u001b[0m     \u001b[0;32mdef\u001b[0m \u001b[0mswitch_to_default_content\u001b[0m\u001b[0;34m(\u001b[0m\u001b[0mself\u001b[0m\u001b[0;34m)\u001b[0m\u001b[0;34m:\u001b[0m\u001b[0;34m\u001b[0m\u001b[0m\n",
      "\u001b[0;32m/home/an/anaconda/lib/python3.5/site-packages/selenium/webdriver/remote/switch_to.py\u001b[0m in \u001b[0;36mframe\u001b[0;34m(self, frame_reference)\u001b[0m\n\u001b[1;32m     85\u001b[0m                     \u001b[0;32mraise\u001b[0m \u001b[0mNoSuchFrameException\u001b[0m\u001b[0;34m(\u001b[0m\u001b[0mframe_reference\u001b[0m\u001b[0;34m)\u001b[0m\u001b[0;34m\u001b[0m\u001b[0m\n\u001b[1;32m     86\u001b[0m \u001b[0;34m\u001b[0m\u001b[0m\n\u001b[0;32m---> 87\u001b[0;31m         \u001b[0mself\u001b[0m\u001b[0;34m.\u001b[0m\u001b[0m_driver\u001b[0m\u001b[0;34m.\u001b[0m\u001b[0mexecute\u001b[0m\u001b[0;34m(\u001b[0m\u001b[0mCommand\u001b[0m\u001b[0;34m.\u001b[0m\u001b[0mSWITCH_TO_FRAME\u001b[0m\u001b[0;34m,\u001b[0m \u001b[0;34m{\u001b[0m\u001b[0;34m'id'\u001b[0m\u001b[0;34m:\u001b[0m \u001b[0mframe_reference\u001b[0m\u001b[0;34m}\u001b[0m\u001b[0;34m)\u001b[0m\u001b[0;34m\u001b[0m\u001b[0m\n\u001b[0m\u001b[1;32m     88\u001b[0m \u001b[0;34m\u001b[0m\u001b[0m\n\u001b[1;32m     89\u001b[0m     \u001b[0;32mdef\u001b[0m \u001b[0mparent_frame\u001b[0m\u001b[0;34m(\u001b[0m\u001b[0mself\u001b[0m\u001b[0;34m)\u001b[0m\u001b[0;34m:\u001b[0m\u001b[0;34m\u001b[0m\u001b[0m\n",
      "\u001b[0;32m/home/an/anaconda/lib/python3.5/site-packages/selenium/webdriver/remote/webdriver.py\u001b[0m in \u001b[0;36mexecute\u001b[0;34m(self, driver_command, params)\u001b[0m\n\u001b[1;32m    306\u001b[0m         \u001b[0mresponse\u001b[0m \u001b[0;34m=\u001b[0m \u001b[0mself\u001b[0m\u001b[0;34m.\u001b[0m\u001b[0mcommand_executor\u001b[0m\u001b[0;34m.\u001b[0m\u001b[0mexecute\u001b[0m\u001b[0;34m(\u001b[0m\u001b[0mdriver_command\u001b[0m\u001b[0;34m,\u001b[0m \u001b[0mparams\u001b[0m\u001b[0;34m)\u001b[0m\u001b[0;34m\u001b[0m\u001b[0m\n\u001b[1;32m    307\u001b[0m         \u001b[0;32mif\u001b[0m \u001b[0mresponse\u001b[0m\u001b[0;34m:\u001b[0m\u001b[0;34m\u001b[0m\u001b[0m\n\u001b[0;32m--> 308\u001b[0;31m             \u001b[0mself\u001b[0m\u001b[0;34m.\u001b[0m\u001b[0merror_handler\u001b[0m\u001b[0;34m.\u001b[0m\u001b[0mcheck_response\u001b[0m\u001b[0;34m(\u001b[0m\u001b[0mresponse\u001b[0m\u001b[0;34m)\u001b[0m\u001b[0;34m\u001b[0m\u001b[0m\n\u001b[0m\u001b[1;32m    309\u001b[0m             response['value'] = self._unwrap_value(\n\u001b[1;32m    310\u001b[0m                 response.get('value', None))\n",
      "\u001b[0;32m/home/an/anaconda/lib/python3.5/site-packages/selenium/webdriver/remote/errorhandler.py\u001b[0m in \u001b[0;36mcheck_response\u001b[0;34m(self, response)\u001b[0m\n\u001b[1;32m    192\u001b[0m         \u001b[0;32melif\u001b[0m \u001b[0mexception_class\u001b[0m \u001b[0;34m==\u001b[0m \u001b[0mUnexpectedAlertPresentException\u001b[0m \u001b[0;32mand\u001b[0m \u001b[0;34m'alert'\u001b[0m \u001b[0;32min\u001b[0m \u001b[0mvalue\u001b[0m\u001b[0;34m:\u001b[0m\u001b[0;34m\u001b[0m\u001b[0m\n\u001b[1;32m    193\u001b[0m             \u001b[0;32mraise\u001b[0m \u001b[0mexception_class\u001b[0m\u001b[0;34m(\u001b[0m\u001b[0mmessage\u001b[0m\u001b[0;34m,\u001b[0m \u001b[0mscreen\u001b[0m\u001b[0;34m,\u001b[0m \u001b[0mstacktrace\u001b[0m\u001b[0;34m,\u001b[0m \u001b[0mvalue\u001b[0m\u001b[0;34m[\u001b[0m\u001b[0;34m'alert'\u001b[0m\u001b[0;34m]\u001b[0m\u001b[0;34m.\u001b[0m\u001b[0mget\u001b[0m\u001b[0;34m(\u001b[0m\u001b[0;34m'text'\u001b[0m\u001b[0;34m)\u001b[0m\u001b[0;34m)\u001b[0m\u001b[0;34m\u001b[0m\u001b[0m\n\u001b[0;32m--> 194\u001b[0;31m         \u001b[0;32mraise\u001b[0m \u001b[0mexception_class\u001b[0m\u001b[0;34m(\u001b[0m\u001b[0mmessage\u001b[0m\u001b[0;34m,\u001b[0m \u001b[0mscreen\u001b[0m\u001b[0;34m,\u001b[0m \u001b[0mstacktrace\u001b[0m\u001b[0;34m)\u001b[0m\u001b[0;34m\u001b[0m\u001b[0m\n\u001b[0m\u001b[1;32m    195\u001b[0m \u001b[0;34m\u001b[0m\u001b[0m\n\u001b[1;32m    196\u001b[0m     \u001b[0;32mdef\u001b[0m \u001b[0m_value_or_default\u001b[0m\u001b[0;34m(\u001b[0m\u001b[0mself\u001b[0m\u001b[0;34m,\u001b[0m \u001b[0mobj\u001b[0m\u001b[0;34m,\u001b[0m \u001b[0mkey\u001b[0m\u001b[0;34m,\u001b[0m \u001b[0mdefault\u001b[0m\u001b[0;34m)\u001b[0m\u001b[0;34m:\u001b[0m\u001b[0;34m\u001b[0m\u001b[0m\n",
      "\u001b[0;31mNoSuchFrameException\u001b[0m: Message: no such frame\n  (Session info: chrome=64.0.3282.186)\n  (Driver info: chromedriver=2.33.506092 (733a02544d189eeb751fe0d7ddca79a0ee28cce4),platform=Linux 4.13.0-36-generic x86_64)\n"
     ]
    }
   ],
   "source": [
    "get_data(depart=\"AREQUIPA\")\n",
    "outcome = pd.DataFrame(outcome)\n",
    "outcome.to_csv(\"inei1993_arequipa.csv\")"
   ]
  },
  {
   "cell_type": "code",
   "execution_count": null,
   "metadata": {
    "collapsed": true
   },
   "outputs": [],
   "source": [
    "get_data(depart=\"AYACUCHO\")\n",
    "outcome = pd.DataFrame(outcome)\n",
    "outcome.to_csv(\"inei1993_ayacucho.csv\")"
   ]
  },
  {
   "cell_type": "code",
   "execution_count": null,
   "metadata": {
    "collapsed": true
   },
   "outputs": [],
   "source": [
    "get_data(depart=\"CAJAMARCA\")\n",
    "outcome = pd.DataFrame(outcome)\n",
    "outcome.to_csv(\"inei1993_cajamarca.csv\")"
   ]
  },
  {
   "cell_type": "code",
   "execution_count": null,
   "metadata": {
    "collapsed": true
   },
   "outputs": [],
   "source": [
    "get_data(depart=\"CALLAO\")\n",
    "outcome = pd.DataFrame(outcome)\n",
    "outcome.to_csv(\"inei1993_callao.csv\")"
   ]
  },
  {
   "cell_type": "code",
   "execution_count": null,
   "metadata": {
    "collapsed": true
   },
   "outputs": [],
   "source": [
    "get_data(depart=\"CUSCO\")\n",
    "outcome = pd.DataFrame(outcome)\n",
    "outcome.to_csv(\"inei1993_cusco.csv\")"
   ]
  },
  {
   "cell_type": "code",
   "execution_count": null,
   "metadata": {
    "collapsed": true
   },
   "outputs": [],
   "source": [
    "get_data(depart=\"HUANCAVELICA\")\n",
    "outcome = pd.DataFrame(outcome)\n",
    "outcome.to_csv(\"inei1993_huancavelica.csv\")"
   ]
  },
  {
   "cell_type": "code",
   "execution_count": null,
   "metadata": {
    "collapsed": true
   },
   "outputs": [],
   "source": [
    "get_data(depart=\"HUANUCO\")\n",
    "outcome = pd.DataFrame(outcome)\n",
    "outcome.to_csv(\"inei1993_huanuco.csv\")"
   ]
  },
  {
   "cell_type": "code",
   "execution_count": null,
   "metadata": {
    "collapsed": true
   },
   "outputs": [],
   "source": [
    "get_data(depart=\"ICA\")\n",
    "outcome = pd.DataFrame(outcome)\n",
    "outcome.to_csv(\"inei1993_ica.csv\")"
   ]
  },
  {
   "cell_type": "code",
   "execution_count": null,
   "metadata": {
    "collapsed": true
   },
   "outputs": [],
   "source": [
    "get_data(depart=\"JUNIN\")\n",
    "outcome = pd.DataFrame(outcome)\n",
    "outcome.to_csv(\"inei1993_junin.csv\")"
   ]
  },
  {
   "cell_type": "code",
   "execution_count": null,
   "metadata": {
    "collapsed": true
   },
   "outputs": [],
   "source": [
    "get_data(depart=\"LA LIBERTAD\")\n",
    "outcome = pd.DataFrame(outcome)\n",
    "outcome.to_csv(\"inei1993_lalibertad.csv\")"
   ]
  },
  {
   "cell_type": "code",
   "execution_count": null,
   "metadata": {
    "collapsed": true
   },
   "outputs": [],
   "source": [
    "get_data(depart=\"LAMBAYEQUE\")\n",
    "outcome = pd.DataFrame(outcome)\n",
    "outcome.to_csv(\"inei1993_lambayeque.csv\")"
   ]
  },
  {
   "cell_type": "code",
   "execution_count": null,
   "metadata": {
    "collapsed": true
   },
   "outputs": [],
   "source": [
    "get_data(depart=\"LIMA\")\n",
    "outcome = pd.DataFrame(outcome)\n",
    "outcome.to_csv(\"inei1993_lima.csv\")"
   ]
  },
  {
   "cell_type": "code",
   "execution_count": null,
   "metadata": {
    "collapsed": true
   },
   "outputs": [],
   "source": [
    "get_data(depart=\"LORETO\")\n",
    "outcome = pd.DataFrame(outcome)\n",
    "outcome.to_csv(\"inei1993_loreto.csv\")"
   ]
  },
  {
   "cell_type": "code",
   "execution_count": null,
   "metadata": {
    "collapsed": true
   },
   "outputs": [],
   "source": [
    "get_data(depart=\"MADRE DE DIOS\")\n",
    "outcome = pd.DataFrame(outcome)\n",
    "outcome.to_csv(\"inei1993_madre.csv\")"
   ]
  },
  {
   "cell_type": "code",
   "execution_count": null,
   "metadata": {
    "collapsed": true
   },
   "outputs": [],
   "source": [
    "get_data(depart=\"MOQUEGUA\")\n",
    "outcome = pd.DataFrame(outcome)\n",
    "outcome.to_csv(\"inei1993_moquegua.csv\")"
   ]
  },
  {
   "cell_type": "code",
   "execution_count": null,
   "metadata": {
    "collapsed": true
   },
   "outputs": [],
   "source": [
    "get_data(depart=\"PASCO\")\n",
    "outcome = pd.DataFrame(outcome)\n",
    "outcome.to_csv(\"inei1993_pasco.csv\")"
   ]
  },
  {
   "cell_type": "code",
   "execution_count": null,
   "metadata": {
    "collapsed": true
   },
   "outputs": [],
   "source": [
    "get_data(depart=\"PIURA\")\n",
    "outcome = pd.DataFrame(outcome)\n",
    "outcome.to_csv(\"inei1993_piura.csv\")"
   ]
  },
  {
   "cell_type": "code",
   "execution_count": null,
   "metadata": {
    "collapsed": true
   },
   "outputs": [],
   "source": [
    "get_data(depart=\"PUNO\")\n",
    "outcome = pd.DataFrame(outcome)\n",
    "outcome.to_csv(\"inei1993_puno.csv\")"
   ]
  },
  {
   "cell_type": "code",
   "execution_count": null,
   "metadata": {
    "collapsed": true
   },
   "outputs": [],
   "source": [
    "get_data(depart=\"SAN MARTIN\")\n",
    "outcome = pd.DataFrame(outcome)\n",
    "outcome.to_csv(\"inei1993_sanmartin.csv\")"
   ]
  },
  {
   "cell_type": "code",
   "execution_count": null,
   "metadata": {
    "collapsed": true
   },
   "outputs": [],
   "source": [
    "get_data(depart=\"TACNA\")\n",
    "outcome = pd.DataFrame(outcome)\n",
    "outcome.to_csv(\"inei1993_tacna.csv\")"
   ]
  },
  {
   "cell_type": "code",
   "execution_count": null,
   "metadata": {
    "collapsed": true
   },
   "outputs": [],
   "source": [
    "get_data(depart=\"TUMBES\")\n",
    "outcome = pd.DataFrame(outcome)\n",
    "outcome.to_csv(\"inei1993_tumbes.csv\")"
   ]
  },
  {
   "cell_type": "code",
   "execution_count": null,
   "metadata": {
    "collapsed": true
   },
   "outputs": [],
   "source": [
    "get_data(depart=\"UCAYALI\")\n",
    "outcome = pd.DataFrame(outcome)\n",
    "outcome.to_csv(\"inei1993_ucayali.csv\")"
   ]
  },
  {
   "cell_type": "code",
   "execution_count": null,
   "metadata": {
    "collapsed": true
   },
   "outputs": [],
   "source": []
  }
 ],
 "metadata": {
  "anaconda-cloud": {},
  "kernelspec": {
   "display_name": "Python [conda root]",
   "language": "python",
   "name": "conda-root-py"
  },
  "language_info": {
   "codemirror_mode": {
    "name": "ipython",
    "version": 3
   },
   "file_extension": ".py",
   "mimetype": "text/x-python",
   "name": "python",
   "nbconvert_exporter": "python",
   "pygments_lexer": "ipython3",
   "version": "3.5.4"
  }
 },
 "nbformat": 4,
 "nbformat_minor": 1
}
