{
 "cells": [
  {
   "cell_type": "code",
   "execution_count": null,
   "metadata": {
    "collapsed": true
   },
   "outputs": [],
   "source": [
    "import pandas as pd\n",
    "import requests,re,os\n",
    "from selenium import webdriver\n",
    "from selenium.webdriver.support.ui import WebDriverWait\n",
    "from selenium.webdriver.support import expected_conditions as EC\n",
    "from selenium.common.exceptions import TimeoutException\n",
    "import time"
   ]
  },
  {
   "cell_type": "code",
   "execution_count": null,
   "metadata": {
    "collapsed": false
   },
   "outputs": [],
   "source": [
    "os.chdir(os.path.abspath(os.path.join(os.getcwd(), os.pardir, os.pardir)))"
   ]
  },
  {
   "cell_type": "code",
   "execution_count": null,
   "metadata": {
    "collapsed": false
   },
   "outputs": [],
   "source": [
    "path_to_chromedriver ='/home/an/chromedriver'"
   ]
  },
  {
   "cell_type": "code",
   "execution_count": null,
   "metadata": {
    "collapsed": false
   },
   "outputs": [],
   "source": [
    "browser = webdriver.Chrome(executable_path = path_to_chromedriver)"
   ]
  },
  {
   "cell_type": "code",
   "execution_count": null,
   "metadata": {
    "collapsed": false
   },
   "outputs": [],
   "source": [
    "url = \"http://censos.inei.gob.pe/bcoCuadros/bancocuadro.asp?p=14\""
   ]
  },
  {
   "cell_type": "code",
   "execution_count": null,
   "metadata": {
    "collapsed": true
   },
   "outputs": [],
   "source": [
    "browser.get(url)"
   ]
  },
  {
   "cell_type": "code",
   "execution_count": null,
   "metadata": {
    "collapsed": false
   },
   "outputs": [],
   "source": [
    "browser.switch_to_frame('panel2')"
   ]
  },
  {
   "cell_type": "code",
   "execution_count": null,
   "metadata": {
    "collapsed": true
   },
   "outputs": [],
   "source": [
    "outcome = {\"DEPARTAMENTO\":[],\"PROVINCIA\":[],\"DISTRITO\":[],\"CATEGORIA\":[],\"CENTRO PROBLADO\":[],\n",
    "          \"POBLACION\":[],\"POBLACION Hombres\":[],\"POBLACION Mujeres\":[], \"GRUPOS DE EDAD\":[],\n",
    "          \"GRUPOS DE EDAD Menores de 1\":[],\"GRUPOS DE EDAD De 1 a 4\":[], \"GRUPOS DE EDAD De 5 a 14\":[],\n",
    "           \"GRUPOS DE EDAD De 15 a 64\":[],\"GRUPOS DE EDAD De 65 y m s\":[], \"MIGRACION Nativos\":[],\n",
    "          \"MIGRACION Migrantes\":[], \"MIGRACION Extranjeros\":[], \"MINUSVALIDOS\":[], \"MINUSVALIDOS Con ceguera\":[],\n",
    "          \"MINUSVALIDOS Con retardo\":[], \"MINUSVALIDOS Con polio\":[], \"MINUSVALIDOS Invalidez inferiores\":[],\n",
    "          \"MINUSVALIDOS Invalidez superiores\":[], \"MINUSVALIDOS Otros\":[],\"ANALFABETA\":[],\n",
    "          \"ANALFABETA Hombres\":[], \"ANALFABETA Mujeres\":[], \"Sin Nivel\":[], \"Inicial Preescolar\":[],\n",
    "          \"Primaria\":[], \"Secundaria\":[], \"Superior\":[], \"PEA DE 6 A 14\":[], \"PEA DE 15\":[],\n",
    "          \"PEA DE 15 Ocupados\":[],\"PEA DE 15 Desocupados\":[], \"Agricultores\":[], \"Obreros\":[],\n",
    "          \"Comerciantes\":[], \"Vendedores\":[], \"Trab. no calif.\":[], \"OCUPACION Otros\":[], \"Asalariado\":[],\n",
    "          \"Independiente\":[], \"Patrono\":[], \"Trab. Fam.\":[], \"Trab. del Hogar\":[], \"Extractiva\":[],\n",
    "          \"Transformaci\":[], \"Servicios\":[], \"Conviviente\":[], \"Casado(a)\":[], \"Soltero(a)\":[],\n",
    "          \"ESTADO CIVIL Otros\":[], \"JEFATURA DE HOGAR\":[], \"JEFATURA DE HOGAR Hombre\":[],\n",
    "          \"JEFATURA DE HOGAR Mujer\":[], \"Promedio hijos\":[], \"Mujeres de 15 a 49\":[],\n",
    "          \"Madres Solteras\":[], \"Madres Solteras De 12 a 19\":[], \"Madres Solteras De 20 a 29\":[],\n",
    "          \"Madres Solteras De 30 a 49\":[], \"Madres Adolecentes\":[], \"Total de Viviendas\":[],\n",
    "          \"Total de Hogares\":[], \"TAMA¥O PROMEDIO\":[], \"TIPO DE VIVIENDA\":[], \"Casa independiente\":[],\n",
    "          \"Vivienda improvisada\":[], \"TIPO DE VIVIENDA Otros\":[], \"TENENCIA\":[], \"TENENCIA Propia\":[],\n",
    "          \"TENENCIA Alquilada\":[], \"TENENCIA Ocupada de hecho\":[], \"TENENCIA Otros\":[], \"PAREDES\":[],\n",
    "          \"De ladrillo\":[], \"De quincha\":[], \"De piedra\":[], \"De madera\":[], \"De estera\":[],\n",
    "          \"PAREDES Otros\":[], \"TECHO\":[], \"De concreto\":[], \"De plancha\":[], \"Ca o estera\":[],\n",
    "          \"De paja\":[], \"TECHO Otro\":[], \"ABASTECIMIENTO\":[], \"De red\":[], \"Piln de uso\":[],\n",
    "          \"Camin cisterna\":[], \"ABASTECIMIENTO Otros\":[], \"SERVICIO\":[], \"Red pblica\":[],\n",
    "          \"A pozo\":[],\"SERVICIO Otros\":[], \"SERVICIO No tiene\":[], \"ALUMBRADO\":[], \"ALUMBRADO Si tiene\":[],\n",
    "          \"ALUMBRADO No tiene\":[], \"VIVIENDAS CON SOLO\":[], \"Sin habitacin\":[], \"Con uso\":[],\n",
    "          \"Con espacio\":[], \"Sin artefacto\":[], \"Con Radio\":[], \"Con Radio, TV\":[], \"Con M quina\":[],\n",
    "          \"Con Refrigeradora\":[], \"Con Triciclo\":[], \"Con 4 y mas\":[]}"
   ]
  },
  {
   "cell_type": "code",
   "execution_count": null,
   "metadata": {
    "collapsed": true
   },
   "outputs": [],
   "source": [
    "def extract_text(text, depart, province, district, cate, centro):\n",
    "    outcome[\"DEPARTAMENTO\"].append(depart)\n",
    "    outcome[\"PROVINCIA\"].append(province)\n",
    "    outcome[\"DISTRITO\"].append(district)\n",
    "    outcome[\"CATEGORIA\"].append(cate)\n",
    "    outcome[\"CENTRO PROBLADO\"].append(centro)\n",
    "    temp = text.split(\"\\n\")\n",
    "    outcome[\"POBLACION\"].append(temp[1].split(\" \")[-1])\n",
    "    outcome[\"POBLACION Hombres\"].append(temp[2].split(\" \")[-1])\n",
    "    outcome[\"POBLACION Mujeres\"].append(temp[3].split(\" \")[-1])\n",
    "    outcome[\"GRUPOS DE EDAD\"].append(temp[4].split(\" \")[-1])\n",
    "    outcome[\"GRUPOS DE EDAD Menores de 1\"].append(temp[5].split(\" \")[-1])\n",
    "    outcome[\"GRUPOS DE EDAD De 1 a 4\"].append(temp[6].split(\" \")[-1])\n",
    "    outcome[\"GRUPOS DE EDAD De 5 a 14\"].append(temp[7].split(\" \")[-1])\n",
    "    outcome[\"GRUPOS DE EDAD De 15 a 64\"].append(temp[8].split(\" \")[-1])\n",
    "    outcome[\"GRUPOS DE EDAD De 65 y m s\"].append(temp[9].split(\" \")[-1])\n",
    "    outcome[\"MIGRACION Nativos\"].append(temp[11].split(\" \")[-1])\n",
    "    outcome[\"MIGRACION Migrantes\"].append(temp[12].split(\" \")[-1])\n",
    "    outcome[\"MIGRACION Extranjeros\"].append(temp[13].split(\" \")[-1])\n",
    "    outcome[\"MINUSVALIDOS\"].append(temp[14].split(\" \")[-1])\n",
    "    outcome[\"MINUSVALIDOS Con ceguera\"].append(temp[15].split(\" \")[-1])\n",
    "    outcome[\"MINUSVALIDOS Con retardo\"].append(temp[16].split(\" \")[-1])\n",
    "    outcome[\"MINUSVALIDOS Con polio\"].append(temp[17].split(\" \")[-1])\n",
    "    outcome[\"MINUSVALIDOS Invalidez inferiores\"].append(temp[18].split(\" \")[-1])\n",
    "    outcome[\"MINUSVALIDOS Invalidez superiores\"].append(temp[19].split(\" \")[-1])\n",
    "    outcome[\"MINUSVALIDOS Otros\"].append(temp[20].split(\" \")[-1])\n",
    "    outcome[\"ANALFABETA\"].append(temp[22].split(\" \")[-1])\n",
    "    outcome[\"ANALFABETA Hombres\"].append(temp[23].split(\" \")[-1])\n",
    "    outcome[\"ANALFABETA Mujeres\"].append(temp[24].split(\" \")[-1])\n",
    "    outcome[\"Sin Nivel\"].append(temp[26].split(\" \")[-1])\n",
    "    outcome[\"Inicial Preescolar\"].append(temp[27].split(\" \")[-1])\n",
    "    outcome[\"Primaria\"].append(temp[28].split(\" \")[-1])\n",
    "    outcome[\"Secundaria\"].append(temp[29].split(\" \")[-1])\n",
    "    outcome[\"Superior\"].append(temp[30].split(\" \")[-1])\n",
    "    outcome[\"PEA DE 6 A 14\"].append(temp[32].split(\" \")[-1])\n",
    "    outcome[\"PEA DE 15\"].append(temp[33].split(\" \")[-1])\n",
    "    outcome[\"PEA DE 15 Ocupados\"].append(temp[34].split(\" \")[-1])\n",
    "    outcome[\"PEA DE 15 Desocupados\"].append(temp[35].split(\" \")[-1])\n",
    "    outcome[\"Agricultores\"].append(temp[37].split(\" \")[-1])\n",
    "    outcome[\"Obreros\"].append(temp[38].split(\" \")[-1])\n",
    "    outcome[\"Comerciantes\"].append(temp[39].split(\" \")[-1])\n",
    "    outcome[\"Vendedores\"].append(temp[40].split(\" \")[-1])\n",
    "    outcome[\"Trab. no calif.\"].append(temp[41].split(\" \")[-1])\n",
    "    outcome[\"OCUPACION Otros\"].append(temp[42].split(\" \")[-1])\n",
    "    outcome[\"Asalariado\"].append(temp[44].split(\" \")[-1])\n",
    "    outcome[\"Independiente\"].append(temp[45].split(\" \")[-1])\n",
    "    outcome[\"Patrono\"].append(temp[46].split(\" \")[-1])\n",
    "    outcome[\"Trab. Fam.\"].append(temp[47].split(\" \")[-1])\n",
    "    outcome[\"Trab. del Hogar\"].append(temp[48].split(\" \")[-1])\n",
    "    outcome[\"Extractiva\"].append(temp[50].split(\" \")[-1])\n",
    "    outcome[\"Transformaci\"].append(temp[51].split(\" \")[-1])\n",
    "    outcome[\"Servicios\"].append(temp[52].split(\" \")[-1])\n",
    "    outcome[\"Conviviente\"].append(temp[55].split(\" \")[-1])\n",
    "    outcome[\"Casado(a)\"].append(temp[56].split(\" \")[-1])\n",
    "    outcome[\"Soltero(a)\"].append(temp[57].split(\" \")[-1])\n",
    "    outcome[\"ESTADO CIVIL Otros\"].append(temp[58].split(\" \")[-1])\n",
    "    outcome[\"JEFATURA DE HOGAR\"].append(temp[59].split(\" \")[-1])\n",
    "    outcome[\"JEFATURA DE HOGAR Hombre\"].append(temp[60].split(\" \")[-1])\n",
    "    outcome[\"JEFATURA DE HOGAR Mujer\"].append(temp[61].split(\" \")[-1])\n",
    "    outcome[\"Promedio hijos\"].append(temp[63].split(\" \")[-1])\n",
    "    outcome[\"Mujeres de 15 a 49\"].append(temp[64].split(\" \")[-1])\n",
    "    outcome[\"Madres Solteras\"].append(temp[65].split(\" \")[-1])\n",
    "    outcome[\"Madres Solteras De 12 a 19\"].append(temp[66].split(\" \")[-1])\n",
    "    outcome[\"Madres Solteras De 20 a 29\"].append(temp[67].split(\" \")[-1])\n",
    "    outcome[\"Madres Solteras De 30 a 49\"].append(temp[68].split(\" \")[-1])\n",
    "    outcome[\"Madres Adolecentes\"].append(temp[69].split(\" \")[-1])\n",
    "    outcome[\"Total de Viviendas\"].append(temp[71].split(\" \")[-1])\n",
    "    outcome[\"Total de Hogares\"].append(temp[72].split(\" \")[-1])\n",
    "    outcome[\"TAMA¥O PROMEDIO\"].append(temp[73].split(\" \")[-1])\n",
    "    outcome[\"TIPO DE VIVIENDA\"].append(temp[74].split(\" \")[-1])\n",
    "    outcome[\"Casa independiente\"].append(temp[75].split(\" \")[-1])\n",
    "    outcome[\"Vivienda improvisada\"].append(temp[76].split(\" \")[-1])\n",
    "    outcome[\"TIPO DE VIVIENDA Otros\"].append(temp[77].split(\" \")[-1])\n",
    "    outcome[\"TENENCIA\"].append(temp[78].split(\" \")[-1])\n",
    "    outcome[\"TENENCIA Propia\"].append(temp[79].split(\" \")[-1])\n",
    "    outcome[\"TENENCIA Alquilada\"].append(temp[80].split(\" \")[-1])\n",
    "    outcome[\"TENENCIA Ocupada de hecho\"].append(temp[81].split(\" \")[-1])\n",
    "    outcome[\"TENENCIA Otros\"].append(temp[82].split(\" \")[-1])\n",
    "    outcome[\"PAREDES\"].append(temp[84].split(\" \")[-1])\n",
    "    outcome[\"De ladrillo\"].append(temp[85].split(\" \")[-1])\n",
    "    outcome[\"De quincha\"].append(temp[86].split(\" \")[-1])\n",
    "    outcome[\"De piedra\"].append(temp[87].split(\" \")[-1])\n",
    "    outcome[\"De madera\"].append(temp[88].split(\" \")[-1])\n",
    "    outcome[\"De estera\"].append(temp[89].split(\" \")[-1])\n",
    "    outcome[\"PAREDES Otros\"].append(temp[90].split(\" \")[-1])\n",
    "    outcome[\"TECHO\"].append(temp[91].split(\" \")[-1])\n",
    "    outcome[\"De concreto\"].append(temp[92].split(\" \")[-1])\n",
    "    outcome[\"De plancha\"].append(temp[93].split(\" \")[-1])\n",
    "    outcome[\"Ca o estera\"].append(temp[94].split(\" \")[-1])\n",
    "    outcome[\"De paja\"].append(temp[95].split(\" \")[-1])\n",
    "    outcome[\"TECHO Otro\"].append(temp[96].split(\" \")[-1])\n",
    "    outcome[\"ABASTECIMIENTO\"].append(temp[98].split(\" \")[-1])\n",
    "    outcome[\"De red\"].append(temp[99].split(\" \")[-1])\n",
    "    outcome[\"Piln de uso\"].append(temp[100].split(\" \")[-1])\n",
    "    outcome[\"Camin cisterna\"].append(temp[101].split(\" \")[-1])\n",
    "    outcome[\"ABASTECIMIENTO Otros\"].append(temp[102].split(\" \")[-1])\n",
    "    outcome[\"SERVICIO\"].append(temp[103].split(\" \")[-1])\n",
    "    outcome[\"Red pblica\"].append(temp[104].split(\" \")[-1])\n",
    "    outcome[\"A pozo\"].append(temp[105].split(\" \")[-1])\n",
    "    outcome[\"SERVICIO Otros\"].append(temp[106].split(\" \")[-1])\n",
    "    outcome[\"SERVICIO No tiene\"].append(temp[107].split(\" \")[-1])\n",
    "    outcome[\"ALUMBRADO\"].append(temp[108].split(\" \")[-1])\n",
    "    outcome[\"ALUMBRADO Si tiene\"].append(temp[109].split(\" \")[-1])\n",
    "    outcome[\"ALUMBRADO No tiene\"].append(temp[110].split(\" \")[-1])\n",
    "    outcome[\"VIVIENDAS CON SOLO\"].append(temp[111].split(\" \")[-1])\n",
    "    outcome[\"Sin habitacin\"].append(temp[113].split(\" \")[-1])\n",
    "    outcome[\"Con uso\"].append(temp[114].split(\" \")[-1])\n",
    "    outcome[\"Con espacio\"].append(temp[115].split(\" \")[-1])\n",
    "    outcome[\"Sin artefacto\"].append(temp[117].split(\" \")[-1])\n",
    "    outcome[\"Con Radio\"].append(temp[118].split(\" \")[-1])\n",
    "    outcome[\"Con Radio, TV\"].append(temp[119].split(\" \")[-1])\n",
    "    outcome[\"Con M quina\"].append(temp[120].split(\" \")[-1])\n",
    "    outcome[\"Con Refrigeradora\"].append(temp[121].split(\" \")[-1])\n",
    "    outcome[\"Con Triciclo\"].append(temp[122].split(\" \")[-1])\n",
    "    outcome[\"Con 4 y mas\"].append(temp[123].split(\" \")[-1])  "
   ]
  },
  {
   "cell_type": "code",
   "execution_count": null,
   "metadata": {
    "collapsed": false
   },
   "outputs": [],
   "source": [
    "def get_data_centro(depart, province, district, cate, centro=None):\n",
    "    if centro:\n",
    "        wait = WebDriverWait(browser, 10)\n",
    "        confirm = wait.until(lambda driver: driver.find_element_by_xpath('//*[@id=\"cmbCentroPoblado\"]/option[contains(text(), \"'+centro+'\")]'))\n",
    "        confirm.click()\n",
    "        browser.find_element_by_xpath('//*[@id=\"btnVer\"]').click()\n",
    "        browser.switch_to_frame('frmResultado')\n",
    "        browser.switch_to_frame(0)\n",
    "        temp = browser.find_element_by_xpath('/html/body/font/center/table/tbody/tr[3]/td/pre').text\n",
    "        extract_text(temp, depart, province, district, cate, centro)\n",
    "        browser.switch_to_default_content()\n",
    "        browser.switch_to_frame('panel2')\n",
    "    else:\n",
    "        time.sleep(1)\n",
    "        wait = WebDriverWait(browser, 10)\n",
    "        wait.until(lambda driver: len(driver.find_element_by_xpath('//*[@id=\"cmbCentroPoblado\"]').find_elements_by_tag_name(\"option\"))>1)\n",
    "        centro_lst = browser.find_element_by_xpath('//*[@id=\"cmbCentroPoblado\"]').find_elements_by_tag_name(\"option\")\n",
    "        for i in range(1,len(centro_lst)):\n",
    "            cen_name = centro_lst[i].text\n",
    "            browser.find_element_by_xpath('//*[@id=\"cmbCentroPoblado\"]/option[contains(text(), \"'+cen_name+'\")]').click()\n",
    "            browser.find_element_by_xpath('//*[@id=\"btnVer\"]').click()\n",
    "            try:\n",
    "                wait = WebDriverWait(browser, 1)\n",
    "                wait.until(EC.alert_is_present())\n",
    "                browser.switch_to.alert.accept()\n",
    "                print(\"alert accepted\")\n",
    "                browser.switch_to_default_content()\n",
    "                browser.switch_to_frame('panel2')\n",
    "            except TimeoutException:\n",
    "                browser.switch_to_frame('frmResultado')\n",
    "                browser.switch_to_frame(0)\n",
    "                temp = browser.find_element_by_xpath('/html/body/font/center/table/tbody/tr[3]/td/pre').text\n",
    "                extract_text(temp, depart, province, district, cate, cen_name)\n",
    "                browser.switch_to_default_content()\n",
    "                browser.switch_to_frame('panel2')"
   ]
  },
  {
   "cell_type": "code",
   "execution_count": null,
   "metadata": {
    "collapsed": true
   },
   "outputs": [],
   "source": [
    "def get_data_cate(depart, province, district, cate=None, centro=None):\n",
    "    if cate:\n",
    "        wait = WebDriverWait(browser, 10)\n",
    "        confirm = wait.until(lambda driver: driver.find_element_by_xpath('//*[@id=\"cmbCategoria\"]/option[contains(text(), \"'+cate+'\")]'))\n",
    "        confirm.click()\n",
    "        get_data_centro(depart, province, district, cate, centro)\n",
    "    else:\n",
    "        time.sleep(1)\n",
    "        wait = WebDriverWait(browser, 10)\n",
    "        wait.until(lambda driver: len(driver.find_element_by_xpath('//*[@id=\"cmbCategoria\"]').find_elements_by_tag_name(\"option\"))>1)\n",
    "        cate_list =browser.find_element_by_xpath('//*[@id=\"cmbCategoria\"]').find_elements_by_tag_name(\"option\")\n",
    "        for i in range(1,len(cate_list)):\n",
    "            cate_name = cate_list[i].text\n",
    "            browser.find_element_by_xpath('//*[@id=\"cmbCategoria\"]/option[contains(text(), \"'+cate_name+'\")]').click()\n",
    "            get_data_centro(depart, province, district, cate_name, centro)"
   ]
  },
  {
   "cell_type": "code",
   "execution_count": null,
   "metadata": {
    "collapsed": true
   },
   "outputs": [],
   "source": [
    "def get_data_dis(depart, province, district=None, cate=None, centro=None):\n",
    "    if district:\n",
    "        wait = WebDriverWait(browser, 10)\n",
    "        confirm = wait.until(lambda driver: driver.find_element_by_xpath('//*[@id=\"cmbDistrito\"]/option[contains(text(), \"'+district+'\")]'))\n",
    "        confirm.click()\n",
    "        get_data_cate(depart, province, district, cate, centro)\n",
    "    else:\n",
    "        time.sleep(1)\n",
    "        wait = WebDriverWait(browser, 10)\n",
    "        wait.until(lambda driver: len(driver.find_element_by_xpath('//*[@id=\"cmbDistrito\"]').find_elements_by_tag_name(\"option\"))>1)\n",
    "        dist_list=browser.find_element_by_xpath('//*[@id=\"cmbDistrito\"]').find_elements_by_tag_name(\"option\")\n",
    "        for i in range(1,len(dist_list)):\n",
    "            dist_name = dist_list[i].text\n",
    "            browser.find_element_by_xpath('//*[@id=\"cmbDistrito\"]/option[contains(text(), \"'+dist_name+'\")]').click()\n",
    "            get_data_cate(depart, province, dist_name, cate, centro)"
   ]
  },
  {
   "cell_type": "code",
   "execution_count": null,
   "metadata": {
    "collapsed": true
   },
   "outputs": [],
   "source": [
    "def get_data_prov(depart, province=None, district=None, cate=None, centro=None):\n",
    "    if province:\n",
    "        wait = WebDriverWait(browser, 10)\n",
    "        confirm = wait.until(lambda driver: driver.find_element_by_xpath('//*[@id=\"cmbProvincia\"]/option[contains(text(), \"'+province+'\")]'))\n",
    "        confirm.click()\n",
    "        get_data_dis(depart, province, district, cate, centro)\n",
    "    else:\n",
    "        time.sleep(1)\n",
    "        wait = WebDriverWait(browser, 10)\n",
    "        confirm = wait.until(lambda driver: len(driver.find_element_by_xpath('//*[@id=\"cmbProvincia\"]').find_elements_by_tag_name(\"option\"))>1)\n",
    "        prov_list=browser.find_element_by_xpath('//*[@id=\"cmbProvincia\"]').find_elements_by_tag_name(\"option\")\n",
    "        for i in range(1,len(prov_list)):\n",
    "            prov_name = prov_list[i].text\n",
    "            browser.find_element_by_xpath('//*[@id=\"cmbProvincia\"]/option[contains(text(), \"'+prov_name+'\")]').click()\n",
    "            get_data_dis(depart, prov_name, district, cate, centro)"
   ]
  },
  {
   "cell_type": "code",
   "execution_count": null,
   "metadata": {
    "collapsed": false
   },
   "outputs": [],
   "source": [
    "def get_data(depart=None, province=None, district=None, cate=None, centro=None):\n",
    "    if depart:\n",
    "        browser.find_element_by_xpath('//*[@id=\"cmbDepartamento\"]/option[contains(text(), \"'+depart+'\")]').click()\n",
    "        get_data_prov(depart, province, district, cate, centro)\n",
    "    else:\n",
    "        time.sleep(1)\n",
    "        dep_list=browser.find_element_by_xpath('//*[@id=\"cmbDepartamento\"]').find_elements_by_tag_name(\"option\")\n",
    "        for i in range(1,len(dep_list)):\n",
    "            dep_name = dep_list[i].text\n",
    "            browser.find_element_by_xpath('//*[@id=\"cmbDepartamento\"]/option[contains(text(), \"'+dep_name+'\")]').click()\n",
    "            get_data_prov(dep_name, province, district, cate, centro)"
   ]
  },
  {
   "cell_type": "code",
   "execution_count": null,
   "metadata": {
    "collapsed": false,
    "scrolled": true
   },
   "outputs": [],
   "source": [
    "get_data()"
   ]
  },
  {
   "cell_type": "code",
   "execution_count": null,
   "metadata": {
    "collapsed": false,
    "scrolled": true
   },
   "outputs": [],
   "source": [
    "outcome = pd.DataFrame(outcome)\n",
    "outcome.to_csv(\"inei1993.csv\")"
   ]
  },
  {
   "cell_type": "code",
   "execution_count": null,
   "metadata": {
    "collapsed": true
   },
   "outputs": [],
   "source": []
  }
 ],
 "metadata": {
  "anaconda-cloud": {},
  "kernelspec": {
   "display_name": "Python [conda root]",
   "language": "python",
   "name": "conda-root-py"
  },
  "language_info": {
   "codemirror_mode": {
    "name": "ipython",
    "version": 3
   },
   "file_extension": ".py",
   "mimetype": "text/x-python",
   "name": "python",
   "nbconvert_exporter": "python",
   "pygments_lexer": "ipython3",
   "version": "3.5.4"
  }
 },
 "nbformat": 4,
 "nbformat_minor": 1
}
